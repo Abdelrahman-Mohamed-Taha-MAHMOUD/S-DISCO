{
  "nbformat": 4,
  "nbformat_minor": 0,
  "metadata": {
    "colab": {
      "provenance": [],
      "authorship_tag": "ABX9TyPE9xHSGqk9ouxWH+l1jclt",
      "include_colab_link": true
    },
    "kernelspec": {
      "name": "python3",
      "display_name": "Python 3"
    },
    "language_info": {
      "name": "python"
    }
  },
  "cells": [
    {
      "cell_type": "markdown",
      "metadata": {
        "id": "view-in-github",
        "colab_type": "text"
      },
      "source": [
        "<a href=\"https://colab.research.google.com/github/cbedart/S-DISCO/blob/main/S_DISCO_QSAR.ipynb\" target=\"_parent\"><img src=\"https://colab.research.google.com/assets/colab-badge.svg\" alt=\"Open In Colab\"/></a>"
      ]
    },
    {
      "cell_type": "markdown",
      "source": [
        "**<center><h1>S-DISCO - QSAR</h1></center>**\n",
        "\n",
        "---\n",
        "\n"
      ],
      "metadata": {
        "id": "zto0JsWR2r33"
      }
    },
    {
      "cell_type": "markdown",
      "source": [
        "## <u>**Installation of mandatory packages**</u>"
      ],
      "metadata": {
        "id": "ts2TG0UpS8rA"
      }
    },
    {
      "cell_type": "code",
      "execution_count": null,
      "metadata": {
        "cellView": "form",
        "id": "xA2Vi5AbeqmB"
      },
      "outputs": [],
      "source": [
        "# @title Installation of prerequisites\n",
        "!pip install rdkit\n",
        "\n",
        "import pandas as pd\n",
        "import numpy as np\n",
        "\n",
        "from rdkit import Chem\n",
        "from rdkit.Chem import AllChem, Descriptors, rdFingerprintGenerator\n",
        "\n",
        "\n",
        "from rdkit import RDLogger\n",
        "RDLogger.DisableLog('rdApp.*')\n",
        "\n",
        "import matplotlib.pyplot as plt\n",
        "\n",
        "import seaborn as sns; sns.set()\n",
        "from sklearn.decomposition import PCA, KernelPCA\n",
        "from sklearn import preprocessing\n",
        "from sklearn import decomposition\n",
        "from sklearn import datasets\n",
        "from sklearn.cluster import KMeans\n",
        "\n",
        "import ipywidgets as widgets\n",
        "from IPython.display import clear_output\n",
        "\n",
        "import plotly.express as px\n",
        "\n",
        "print(\"\\n\\n\\033[1mPrerequisites succesfully installed !\\033[0m\")"
      ]
    },
    {
      "cell_type": "code",
      "source": [
        "# @title Python main functions\n",
        "################################################################################\n",
        "\n",
        "def getMolDescriptors(mol, missingVal=None):\n",
        "    res = {}\n",
        "    for nm,fn in Descriptors._descList:\n",
        "        try:\n",
        "            val = fn(mol)\n",
        "        except:\n",
        "            val = missingVal\n",
        "        res[nm] = val\n",
        "    return res\n",
        "\n",
        "################################################################################\n",
        "\n",
        "def elimcor_sansY(X, s=0.95):\n",
        "    correl = np.corrcoef(X, rowvar=False)\n",
        "    stop = False\n",
        "    possetap = list(range(X.shape[1]))\n",
        "    groupes = {i: [i] for i in range(X.shape[1])}\n",
        "\n",
        "    while not stop:\n",
        "        # Regroup variables for which |corr| > threshold\n",
        "        gplist = {}\n",
        "        possglob = list(range(correl.shape[0]))\n",
        "        for i in range(correl.shape[0]):\n",
        "            poss = possglob[:i] + possglob[i+1:]\n",
        "            gplist[i] = [i] + [poss[j] for j in range(len(poss)) if abs(correl[i, poss[j]]) > s]\n",
        "\n",
        "        # Sort groups from largest to smallest\n",
        "        gplisteff = {k: len(v) for k, v in gplist.items()}\n",
        "        if any(val > 1 for val in gplisteff.values()):\n",
        "            gplistfin = {k: v for k, v in gplist.items() if gplisteff[k] > 1}\n",
        "            gplistuniq = [k for k, v in gplisteff.items() if v == 1]\n",
        "            gpsel = []\n",
        "            for i in gplistfin.values():\n",
        "                selloc = min(i)\n",
        "                gploc = groupes[possetap[selloc]]\n",
        "                for j in i:\n",
        "                    gploc.extend(groupes[possetap[j]])\n",
        "                groupes[possetap[selloc]] = list(set(gploc))\n",
        "                gpsel.append(selloc)\n",
        "            possetap = [val for idx, val in enumerate(possetap) if idx in gplistuniq or val in set(gpsel)]\n",
        "            correl = np.corrcoef(X.iloc[:,possetap], rowvar=False)\n",
        "        else:\n",
        "            stop = True\n",
        "\n",
        "    return {\"possetap\": possetap, \"groups\": list(groupes.values())}\n",
        "\n",
        "################################################################################\n",
        "\n",
        "print(\"\\033[1mFunctions succesfully loaded !\\033[0m\")"
      ],
      "metadata": {
        "id": "pdlGHGkcswSc",
        "cellView": "form"
      },
      "execution_count": null,
      "outputs": []
    },
    {
      "cell_type": "markdown",
      "source": [
        "## <u>**Ligands loading and descriptors generation**</u>"
      ],
      "metadata": {
        "id": "uLxXEPXyTKjA"
      }
    },
    {
      "cell_type": "code",
      "source": [
        "# @title Loading of the Glucocorticoid dataset\n",
        "\n",
        "!wget https://github.com/cbedart/S-DISCO/raw/main/mols_gr_tosave.pkl > /dev/null 2>&1\n",
        "molecules_GR = pd.read_pickle(\"mols_gr_tosave.pkl\")\n",
        "\n",
        "# Removal of very high MW compounds\n",
        "molecules_GR = molecules_GR.loc[[Descriptors.MolWt(i) < 800 for i in molecules_GR[\"RDKit\"]]]\n",
        "molecules_GR.index = range(len(molecules_GR))\n",
        "\n",
        "molecules_GR"
      ],
      "metadata": {
        "id": "RZjAu8Gpe1Ms",
        "cellView": "form"
      },
      "execution_count": null,
      "outputs": []
    },
    {
      "cell_type": "code",
      "source": [
        "# @title Generation of 202 descriptors\n",
        "\n",
        "\n",
        "print(\"\\033[1mDescriptors are currently being generated. It will take ~2 min\\033[0m\")\n",
        "\n",
        "desc_GR = pd.DataFrame(columns=[\"BindingDB_ID\", \"IC50\", \"pIC50\", \"Steroidal\"] + [i for i,j in Descriptors._descList[:-1]])\n",
        "\n",
        "for i in range(len(molecules_GR)):\n",
        "  desc_GR.loc[i] = molecules_GR.loc[i,[\"BindingDB_ID\", \"IC50\", \"pIC50\", \"Steroidal\"]].tolist() + list(getMolDescriptors(molecules_GR.loc[i,\"RDKit\"], missingVal = np.NAN).values())\n",
        "\n",
        "desc_GR_noNA = desc_GR.dropna(axis=\"columns\")\n",
        "desc_GR_noNA"
      ],
      "metadata": {
        "cellView": "form",
        "id": "C-HcgMlHksnm"
      },
      "execution_count": null,
      "outputs": []
    },
    {
      "cell_type": "markdown",
      "source": [
        "## <u>**Principal Component Analysis (PCA) & dataset preparation**</u>"
      ],
      "metadata": {
        "id": "AEHVoQJvTQWy"
      }
    },
    {
      "cell_type": "code",
      "source": [
        "# @title The very first Principal Component Analysis (PCA) model\n",
        "# @markdown Is there something... strange?\n",
        "X = desc_GR_noNA.iloc[:,3:]\n",
        "\n",
        "pca_v1 = PCA(n_components=10)\n",
        "pca_v1_result = pca_v1.fit_transform(X)\n",
        "principal_components = pca_v1.components_\n",
        "\n",
        "plt.figure(figsize=(8, 6))\n",
        "plt.scatter(pca_v1_result[:, 0], pca_v1_result[:, 1])\n",
        "plt.title('PCA of Descriptor Data')\n",
        "plt.xlabel('Principal Component 1')\n",
        "plt.ylabel('Principal Component 2')\n",
        "plt.grid(True)\n",
        "plt.show()"
      ],
      "metadata": {
        "cellView": "form",
        "id": "QcQwS5jKuclJ"
      },
      "execution_count": null,
      "outputs": []
    },
    {
      "cell_type": "code",
      "source": [
        "# @title Molecular descriptors normalization (and removal of descriptors with zero variances)\n",
        "\n",
        "scaler_temp = preprocessing.StandardScaler()\n",
        "norm_temp = pd.DataFrame(preprocessing.normalize(scaler_temp.fit_transform(desc_GR_noNA.iloc[:,3:])))\n",
        "norm_temp.columns = desc_GR_noNA.iloc[:,3:].columns\n",
        "\n",
        "desc_GR_normalized = pd.concat([desc_GR_noNA.iloc[:,:3], norm_temp], axis=\"columns\")\n",
        "\n",
        "desc_GR_normalized_noNA = desc_GR_normalized.dropna(axis=\"columns\")\n",
        "desc_GR_normalized_noNA"
      ],
      "metadata": {
        "id": "lTjnLXrYuM22",
        "cellView": "form"
      },
      "execution_count": null,
      "outputs": []
    },
    {
      "cell_type": "code",
      "source": [
        "# @title Second PCA model\n",
        "# @markdown Is this better?\n",
        "\n",
        "X = desc_GR_normalized_noNA.iloc[:,3:]\n",
        "\n",
        "pca_v2 = PCA(n_components=30)\n",
        "pca_v2_result = pca_v2.fit_transform(X)\n",
        "principal_components = pca_v2.components_\n",
        "\n",
        "\n",
        "plt.figure(figsize=(8, 6))\n",
        "plt.scatter(pca_v2_result[:, 0], pca_v2_result[:, 1])\n",
        "plt.title('PCA of Descriptor Data')\n",
        "plt.xlabel('Principal Component 1 - {:.2f}% of explained variance'.format(100*pca_v2.explained_variance_[0]))\n",
        "plt.ylabel('Principal Component 2 - {:.2f}% of explained variance'.format(100*pca_v2.explained_variance_[1]))\n",
        "plt.grid(True)\n",
        "plt.show()\n",
        "\n",
        "print(\"Explained variances of the 30 first principal components:\")\n",
        "print(pca_v2.explained_variance_)"
      ],
      "metadata": {
        "cellView": "form",
        "id": "MiQoBqXfvitm"
      },
      "execution_count": null,
      "outputs": []
    },
    {
      "cell_type": "code",
      "source": [
        "# @title In 3D\n",
        "\n",
        "fig2 = px.scatter_3d(x=pca_v2_result[:, 0], y=pca_v2_result[:, 1], z=pca_v2_result[:, 2], width=600, height=600)\n",
        "fig2.update_traces(marker_size = 2)\n",
        "fig2.show()"
      ],
      "metadata": {
        "cellView": "form",
        "id": "H-7j4j2OLukw"
      },
      "execution_count": null,
      "outputs": []
    },
    {
      "cell_type": "code",
      "source": [
        "#@title Same PCA but with custom color parameters\n",
        "\n",
        "descriptor_picker = widgets.Dropdown(options=desc_GR_normalized_noNA.columns[1:], value='MolWt')\n",
        "from plotly.offline import download_plotlyjs, init_notebook_mode, plot, iplot\n",
        "outs = widgets.Output()\n",
        "\n",
        "def generation_PCA_fig_v2(x):\n",
        "  with outs:\n",
        "    clear_output()\n",
        "\n",
        "    plt.figure(figsize=(8, 6))\n",
        "    # plt.subplot(121)\n",
        "\n",
        "    a = plt.scatter(pca_v2_result[:,0], pca_v2_result[:,1], c = desc_GR[descriptor_picker.value], cmap=\"turbo\")\n",
        "    plt.colorbar(a)\n",
        "    plt.title('PCA of Descriptor Data')\n",
        "    plt.xlabel('Principal Component 1 - {:.2f}% of explained variance'.format(100*pca_v2.explained_variance_[0]))\n",
        "    plt.ylabel('Principal Component 2 - {:.2f}% of explained variance'.format(100*pca_v2.explained_variance_[1]))\n",
        "    plt.grid(True)\n",
        "    plt.show()\n",
        "    # plt.subplot(122, projection='3d')\n",
        "    # b = plt.scatter(pca_v2_result[:,0], pca_v2_result[:,1], pca_v2_result[:,2], c = desc_GR[descriptor_picker.value], cmap=\"turbo\")\n",
        "    # plt.colorbar(b)\n",
        "    # plt.title('PCA of Descriptor Data')\n",
        "    # plt.xlabel('Principal Component 1')\n",
        "    # plt.ylabel('Principal Component 2')\n",
        "    # plt.grid(True)\n",
        "    # plt.show()\n",
        "\n",
        "display(descriptor_picker)\n",
        "display(outs)\n",
        "generation_PCA_fig_v2(descriptor_picker.value)\n",
        "descriptor_picker.observe(generation_PCA_fig_v2, names='value')"
      ],
      "metadata": {
        "id": "hEC3CZrxi3Ut",
        "cellView": "form"
      },
      "execution_count": null,
      "outputs": []
    },
    {
      "cell_type": "code",
      "source": [
        "# @title Removal of highly correlated descriptors\n",
        "\n",
        "X = desc_GR_normalized_noNA.iloc[:,3:]\n",
        "elimcor = elimcor_sansY(X, 0.9)\n",
        "desc_GR_nocorr = pd.concat([desc_GR_normalized_noNA.iloc[:,:3], X.iloc[:,elimcor[\"possetap\"]]], axis=\"columns\")\n",
        "desc_GR_nocorr"
      ],
      "metadata": {
        "id": "OUq9IigIyR0i",
        "cellView": "form"
      },
      "execution_count": null,
      "outputs": []
    },
    {
      "cell_type": "code",
      "source": [
        "#@title Third PCA model\n",
        "\n",
        "X = desc_GR_nocorr.iloc[:,3:]\n",
        "\n",
        "pca_v3 = PCA(n_components=30)\n",
        "pca_v3_result = pca_v3.fit_transform(X)\n",
        "principal_components = pca_v3.components_\n",
        "\n",
        "descriptor_picker2 = widgets.Dropdown(options=desc_GR_nocorr.columns[1:], value='Steroidal')\n",
        "\n",
        "outs = widgets.Output()\n",
        "\n",
        "def generation_PCA_fig_v3(x):\n",
        "  with outs:\n",
        "    clear_output()\n",
        "    plt.figure(figsize=(8, 6))\n",
        "    a = plt.scatter(pca_v3_result[:,0], pca_v3_result[:,1], c = desc_GR[descriptor_picker2.value], cmap=\"turbo\")\n",
        "    plt.colorbar(a)\n",
        "    plt.title('PCA of Descriptor Data')\n",
        "    plt.xlabel('Principal Component 1 - {:.2f}% of explained variance'.format(100*pca_v3.explained_variance_[0]))\n",
        "    plt.ylabel('Principal Component 2 - {:.2f}% of explained variance'.format(100*pca_v3.explained_variance_[1]))\n",
        "    plt.grid(True)\n",
        "    plt.show()\n",
        "\n",
        "display(descriptor_picker2)\n",
        "display(outs)\n",
        "generation_PCA_fig_v3(descriptor_picker2.value)\n",
        "descriptor_picker2.observe(generation_PCA_fig_v3, names='value')"
      ],
      "metadata": {
        "cellView": "form",
        "id": "-S8AJ8lj5BCf"
      },
      "execution_count": null,
      "outputs": []
    },
    {
      "cell_type": "markdown",
      "source": [
        "## <u>**K-means clustering**</u>"
      ],
      "metadata": {
        "id": "-lPI2MeV_W3S"
      }
    },
    {
      "cell_type": "code",
      "source": [
        "# @title Where are the steroidal compounds?\n",
        "\n",
        "fig3 = px.scatter_3d(x=pca_v3_result[:, 0], y=pca_v3_result[:, 1], z=pca_v3_result[:, 2], width=600, height=600, color_continuous_scale=[\"red\", \"blue\"], color=desc_GR[\"Steroidal\"], labels={\"color\": \"Steroidal\"})\n",
        "fig3.update_traces(marker_size = 2)\n",
        "fig3.show()"
      ],
      "metadata": {
        "cellView": "form",
        "id": "X5CnqI9aWrO6"
      },
      "execution_count": null,
      "outputs": []
    },
    {
      "cell_type": "code",
      "source": [
        "# @title K-means clustering to generate X groups\n",
        "\n",
        "X = desc_GR_nocorr.iloc[:,3:]\n",
        "\n",
        "choice_nb_clusters = widgets.Dropdown(options=list(range(2,10)), value=2)\n",
        "outs_kmeans = widgets.Output()\n",
        "\n",
        "def on_nb_change(change):\n",
        "  with outs_kmeans:\n",
        "    clear_output()\n",
        "    kmeans = KMeans(n_clusters=choice_nb_clusters.value, n_init=29, random_state=0)\n",
        "    kmeans.fit(X)\n",
        "    cluster_labels = kmeans.labels_\n",
        "    cluster_labels\n",
        "    cluster_centers = pd.DataFrame(kmeans.cluster_centers_)\n",
        "    cluster_centers.columns = X.columns\n",
        "    cluster_centers_pca = pca_v3.transform(cluster_centers)\n",
        "    plt.scatter(pca_v3_result[:, 0], pca_v3_result[:, 1], c=cluster_labels, cmap=\"Accent\")\n",
        "    plt.scatter(cluster_centers_pca[:, 0], cluster_centers_pca[:, 1], marker='o', c='red', s=20, label='Centroids')\n",
        "    plt.title('KMeans Clustering with {} clusters'.format(choice_nb_clusters.value))\n",
        "    plt.xlabel('Principal Component 1 - {:.2f}% of explained variance'.format(100*pca_v3.explained_variance_[0]))\n",
        "    plt.ylabel('Principal Component 2 - {:.2f}% of explained variance'.format(100*pca_v3.explained_variance_[1]))\n",
        "    plt.legend()\n",
        "    plt.show()\n",
        "\n",
        "    desc_GR_clustered = pd.concat([desc_GR_nocorr.iloc[:,:3], pd.DataFrame(cluster_labels, columns=[\"Cluster\"]), desc_GR_nocorr.iloc[:,3:]], axis = \"columns\")\n",
        "    display(desc_GR_clustered)\n",
        "\n",
        "display(choice_nb_clusters)\n",
        "display(outs_kmeans)\n",
        "\n",
        "on_nb_change(2)\n",
        "choice_nb_clusters.observe(on_nb_change, names='value')\n"
      ],
      "metadata": {
        "id": "Hvc_4iFp_DUA",
        "cellView": "form"
      },
      "execution_count": null,
      "outputs": []
    },
    {
      "cell_type": "code",
      "source": [
        "# @title With 3 clusters, by removing the right cluster that includes the steroids\n",
        "# @ markdown Data have been re-normalized\n",
        "\n",
        "X = desc_GR_nocorr.iloc[:,3:]\n",
        "kmeans = KMeans(n_clusters=3, n_init=29, random_state=0)\n",
        "kmeans.fit(X)\n",
        "cluster_labels = kmeans.labels_\n",
        "desc_GR_clustered = pd.concat([desc_GR_nocorr.iloc[:,:3], pd.DataFrame(cluster_labels, columns=[\"Cluster\"]), desc_GR_nocorr.iloc[:,3:]], axis = \"columns\")\n",
        "\n",
        "desc_GR_clustered_filtered = desc_GR.loc[desc_GR_clustered[\"Cluster\"] != desc_GR_clustered.loc[1700,\"Cluster\"]]\n",
        "desc_GR_clustered_filtered = desc_GR_clustered_filtered.dropna(axis=\"columns\")\n",
        "desc_GR_clustered_filtered.index = range(len(desc_GR_clustered_filtered))\n",
        "\n",
        "# desc_GR_clustered_normalized = pd.concat([desc_GR_clustered_filtered.iloc[:,:4], (desc_GR_clustered_filtered.iloc[:,4:] - desc_GR_clustered_filtered.iloc[:,4:].mean()) / desc_GR_clustered_filtered.iloc[:,4:].std()], axis=\"columns\")\n",
        "\n",
        "scaler_temp = preprocessing.StandardScaler()\n",
        "norm_temp = pd.DataFrame(preprocessing.normalize(scaler_temp.fit_transform(desc_GR_clustered_filtered.iloc[:,4:])))\n",
        "norm_temp.columns = desc_GR_clustered_filtered.iloc[:,4:].columns\n",
        "\n",
        "desc_GR_clustered_normalized = pd.concat([desc_GR_clustered_filtered.iloc[:,:4], norm_temp], axis=\"columns\")\n",
        "desc_GR_clustered_normalized_noNA = desc_GR_clustered_normalized.dropna(axis=\"columns\")\n",
        "desc_GR_clustered_normalized_noNA\n",
        "\n",
        "\n",
        "X = desc_GR_clustered_normalized_noNA.iloc[:,4:]\n",
        "elimcor = elimcor_sansY(X)\n",
        "desc_GR_clustered_prep = pd.concat([desc_GR_clustered_normalized_noNA.iloc[:,:4], X.iloc[:,elimcor[\"possetap\"]]], axis=\"columns\")\n",
        "\n",
        "X = desc_GR_clustered_prep.iloc[:,4:]\n",
        "\n",
        "pca_v4 = PCA(n_components=10)\n",
        "pca_v4_result = pca_v4.fit_transform(X)\n",
        "principal_components = pca_v4.components_\n",
        "\n",
        "descriptor_picker3 = widgets.Dropdown(options=desc_GR_clustered_prep.columns[1:], value='Steroidal')\n",
        "\n",
        "outs3 = widgets.Output()\n",
        "\n",
        "def generation_PCA_fig3(x):\n",
        "  with outs3:\n",
        "    clear_output()\n",
        "    plt.figure(figsize=(8, 6))\n",
        "    a = plt.scatter(pca_v4_result[:,0], pca_v4_result[:,1], c = desc_GR_clustered_prep[descriptor_picker3.value], cmap=\"turbo\")\n",
        "    plt.colorbar(a)\n",
        "    plt.title('PCA of Descriptor Data')\n",
        "    plt.xlabel('Principal Component 1')\n",
        "    plt.ylabel('Principal Component 2')\n",
        "    plt.grid(True)\n",
        "    plt.show()\n",
        "    display(desc_GR_clustered_normalized_noNA)\n",
        "\n",
        "display(descriptor_picker3)\n",
        "display(outs3)\n",
        "generation_PCA_fig3(descriptor_picker3.value)\n",
        "descriptor_picker3.observe(generation_PCA_fig3, names='value')"
      ],
      "metadata": {
        "id": "Knym95mnF-EW",
        "cellView": "form"
      },
      "execution_count": null,
      "outputs": []
    },
    {
      "cell_type": "markdown",
      "source": [
        "# <u>**Model \\#1 - Multiple linear regression (quantitative)**</u>"
      ],
      "metadata": {
        "id": "FJo3LppzdtHb"
      }
    },
    {
      "cell_type": "code",
      "source": [
        "# @title Multiple linear regression model\n",
        "from sklearn.model_selection import train_test_split\n",
        "from sklearn.linear_model import LinearRegression\n",
        "from sklearn.metrics import mean_squared_error\n",
        "from sklearn.metrics import r2_score\n",
        "\n",
        "X = desc_GR_clustered_prep.iloc[:,4:]\n",
        "y = desc_GR_clustered_prep.loc[:,\"pIC50\"]\n",
        "\n",
        "X_train, X_test, y_train, y_test = train_test_split(X, y, test_size=0.2)\n",
        "\n",
        "model = LinearRegression(positive=True).fit(X_train, y_train)\n",
        "y_pred = model.predict(X_test)\n",
        "rmse = np.sqrt(mean_squared_error(y_test, y_pred))\n",
        "\n",
        "\n",
        "# Calculate mean squared error (for regression)\n",
        "mse = mean_squared_error(y_test, y_pred)\n",
        "print(f\"Mean Squared Error (MSE) of Linear Regression: {mse:.2f}\")\n",
        "\n",
        "print(f\"Root Mean Squared Error (RMSE) of Linear Regression: {rmse:.2f}\")\n",
        "\n",
        "r2 = r2_score(y_test, y_pred)\n",
        "print(f\"R-squared (R2) of Linear Regression: {r2:.2f}\\n\\n\")\n",
        "\n",
        "for i in range(len(y_pred)):\n",
        "  if abs(y_pred[i]) > 15:\n",
        "    print(X_test.index[i])\n",
        "    # print(y_pred + \"\\n\")\n",
        "\n",
        "plt.scatter(y_test, y_pred, s=10, zorder=22)\n",
        "plt.axline((0, 0), slope=1, linestyle=\"dashed\", c=\"black\")\n",
        "plt.xlim([4,11])\n",
        "plt.ylim([4,11])\n",
        "plt.xlabel(\"pIC50 theoretical\")\n",
        "plt.ylabel(\"pIC50 predicted\")\n",
        "plt.show()"
      ],
      "metadata": {
        "cellView": "form",
        "id": "SsUdRWeCds0w"
      },
      "execution_count": null,
      "outputs": []
    },
    {
      "cell_type": "code",
      "source": [
        "# @title Feature importance of the multiple linear regression model\n",
        "\n",
        "coefs = pd.DataFrame(\n",
        "    model.coef_, columns=[\"Coefficients\"], index=X_train.columns\n",
        ")\n",
        "coefs = coefs.sort_values(\"Coefficients\")\n",
        "coefs.plot(kind=\"barh\", figsize=(5, 35))\n",
        "plt.title(\"Multiple linear regression model - Feature importance\")\n",
        "plt.axvline(x=0, color=\".5\")\n",
        "plt.subplots_adjust(left=0.3)"
      ],
      "metadata": {
        "id": "5fe4caOGfMmb",
        "cellView": "form"
      },
      "execution_count": null,
      "outputs": []
    },
    {
      "cell_type": "code",
      "source": [
        "# @title Second multiple linear regression model if we remove the coefficients < 1\n",
        "\n",
        "Xprep = desc_GR_clustered_prep.iloc[:,4:]\n",
        "X = Xprep.loc[:,coefs[\"Coefficients\"] > 1]\n",
        "y = desc_GR_clustered_prep.loc[:,\"pIC50\"]\n",
        "\n",
        "X_train, X_test, y_train, y_test = train_test_split(X, y, test_size=0.2)\n",
        "\n",
        "print(\"Only {} descriptors left\\n\".format(len(X.columns)))\n",
        "\n",
        "model2 = LinearRegression(positive=True).fit(X_train, y_train)\n",
        "y_pred2 = model2.predict(X_test)\n",
        "rmse = np.sqrt(mean_squared_error(y_test, y_pred2))\n",
        "\n",
        "# Calculate mean squared error (for regression)\n",
        "mse = mean_squared_error(y_test, y_pred2)\n",
        "print(f\"Mean Squared Error (MSE) of Linear Regression: {mse:.2f}\")\n",
        "\n",
        "print(f\"Root Mean Squared Error (RMSE) of Linear Regression: {rmse:.2f}\")\n",
        "\n",
        "r2 = r2_score(y_test, y_pred2)\n",
        "print(f\"R-squared (R2) of Linear Regression: {r2:.2f}\\n\\n\")\n",
        "\n",
        "for i in range(len(y_pred2)):\n",
        "  if abs(y_pred2[i]) > 15:\n",
        "    print(X_test.index[i])\n",
        "    # print(y_pred2 + \"\\n\")\n",
        "\n",
        "plt.scatter(y_test, y_pred2, s=10, zorder=22)\n",
        "plt.axline((0, 0), slope=1, linestyle=\"dashed\", c=\"black\")\n",
        "plt.xlim([4,11])\n",
        "plt.ylim([4,11])\n",
        "plt.xlabel(\"pIC50 theoretical\")\n",
        "plt.ylabel(\"pIC50 predicted\")\n",
        "plt.show()\n"
      ],
      "metadata": {
        "cellView": "form",
        "id": "Dn1RMvj8f_xv"
      },
      "execution_count": null,
      "outputs": []
    },
    {
      "cell_type": "markdown",
      "source": [
        "# <u>**Model \\#2 - Linear Discriminant Analysis (LDA) (qualitative)**</u>"
      ],
      "metadata": {
        "id": "38y1CLKld53A"
      }
    },
    {
      "cell_type": "code",
      "source": [
        "# @title Separation of the dataset into 3 classes: Active/Less active/Inactive\n",
        "\n",
        "active_picker = widgets.Dropdown(options=range(4,10), value=8, description=\"pIC50 limit of actives:\", style=dict(description_width='initial'))\n",
        "inactive_picker = widgets.Dropdown(options=range(4,10), value=6, description=\"pIC50 limit of inactives:\", style=dict(description_width='initial'))\n",
        "\n",
        "outs_active = widgets.Output()\n",
        "\n",
        "def generation_active(x):\n",
        "  with outs_active:\n",
        "    clear_output()\n",
        "\n",
        "    y = []\n",
        "    y_color = []\n",
        "    for i in desc_GR_clustered_prep.iloc[:,2]:\n",
        "      if i > active_picker.value:\n",
        "        y.append(\"Active\")\n",
        "        y_color.append(\"green\")\n",
        "      elif i < inactive_picker.value:\n",
        "        y.append(\"Inactive\")\n",
        "        y_color.append(\"orange\")\n",
        "      else:\n",
        "        y.append(\"LessActive\")\n",
        "        y_color.append(\"red\")\n",
        "\n",
        "    desc_GR_activity = pd.concat([desc_GR_clustered_prep.iloc[:,:4], pd.DataFrame(y, columns=[\"Activity\"]), desc_GR_clustered_prep.iloc[:,4:]], axis = \"columns\")\n",
        "\n",
        "    plt.figure(figsize=(8, 6))\n",
        "    plt.scatter(pca_v4_result[:,0], pca_v4_result[:,1], c = y_color)\n",
        "    plt.title('PCA of Descriptor Data')\n",
        "    plt.xlabel('Principal Component 1')\n",
        "    plt.ylabel('Principal Component 2')\n",
        "    plt.grid(True)\n",
        "    plt.show()\n",
        "    print(desc_GR_activity[\"Activity\"].value_counts())\n",
        "\n",
        "display(active_picker)\n",
        "display(inactive_picker)\n",
        "display(outs_active)\n",
        "\n",
        "generation_active(active_picker.value)\n",
        "active_picker.observe(generation_active, names='value')\n",
        "inactive_picker.observe(generation_active, names='value')"
      ],
      "metadata": {
        "cellView": "form",
        "id": "qTAgNyCrbcyK"
      },
      "execution_count": null,
      "outputs": []
    },
    {
      "cell_type": "code",
      "source": [
        "# @title In 3D\n",
        "ygroup = []\n",
        "y_color = []\n",
        "for i in desc_GR_clustered_prep.iloc[:,2]:\n",
        "  if i > active_picker.value:\n",
        "    ygroup.append(\"Active\")\n",
        "  elif i < inactive_picker.value:\n",
        "    ygroup.append(\"Inactive\")\n",
        "  else:\n",
        "    ygroup.append(\"LessActive\")\n",
        "\n",
        "desc_GR_activity = pd.concat([desc_GR_clustered_prep.iloc[:,:4], pd.DataFrame(ygroup, columns=[\"Activity\"]), desc_GR_clustered_prep.iloc[:,4:]], axis = \"columns\")\n",
        "\n",
        "fig2 = px.scatter_3d(x=pca_v4_result[:, 0], y=pca_v4_result[:, 1], z=pca_v4_result[:, 2], color=ygroup, width=1000, height=800)\n",
        "fig2.update_traces(marker_size = 2)\n",
        "fig2.show()"
      ],
      "metadata": {
        "id": "kgfrhBHccLhJ",
        "cellView": "form"
      },
      "execution_count": null,
      "outputs": []
    },
    {
      "cell_type": "code",
      "source": [
        "# @title Linear Discriminant Analysis with 3 classes\n",
        "from sklearn.datasets import load_iris\n",
        "from sklearn.discriminant_analysis import LinearDiscriminantAnalysis\n",
        "from sklearn.model_selection import train_test_split\n",
        "from sklearn.metrics import accuracy_score\n",
        "\n",
        "# Load the Iris dataset (or replace this with your dataset)\n",
        "y = [1 if i > active_picker.value else 0 for i in desc_GR_clustered_prep.iloc[:,2]]\n",
        "desc_GR_activity = pd.concat([desc_GR_clustered_prep.iloc[:,:4], pd.DataFrame(y, columns=[\"Activity\"]), desc_GR_clustered_prep.iloc[:,4:]], axis = \"columns\")\n",
        "\n",
        "ygroup = []\n",
        "ycat = []\n",
        "for i in desc_GR_clustered_prep.iloc[:,2]:\n",
        "  if i > active_picker.value:\n",
        "    ygroup.append(\"Active\")\n",
        "    ycat.append(1)\n",
        "  elif i < inactive_picker.value:\n",
        "    ygroup.append(\"Inactive\")\n",
        "    ycat.append(-1)\n",
        "  else:\n",
        "    ygroup.append(\"LessActive\")\n",
        "    ycat.append(0)\n",
        "\n",
        "desc_GR_activity = pd.concat([desc_GR_clustered_prep.iloc[:,:4], pd.DataFrame(ygroup, columns=[\"Activity_Label\"]), pd.DataFrame(ycat, columns=[\"Activity\"]), desc_GR_clustered_prep.iloc[:,4:]], axis = \"columns\")\n",
        "\n",
        "X = desc_GR_activity.iloc[:,6:]\n",
        "y = desc_GR_activity.loc[:,\"Activity\"]\n",
        "\n",
        "# Split the data into training and testing sets\n",
        "X_train, X_test, y_train, y_test = train_test_split(X, y, test_size=0.2, random_state=42)\n",
        "\n",
        "# Create an LDA instance\n",
        "lda = LinearDiscriminantAnalysis(store_covariance=True)\n",
        "\n",
        "# Fit LDA on the training data\n",
        "lda.fit(X_train, y_train)\n",
        "\n",
        "# Predict the classes on the test set\n",
        "y_pred = lda.predict(X_test)\n",
        "\n",
        "# Calculate accuracy\n",
        "accuracy = accuracy_score(y_test, y_pred)\n",
        "\n",
        "\n",
        "print(\"Upper pIC50 value = {}\".format(active_picker.value))\n",
        "print(\"Lower pIC50 value = {}\".format(inactive_picker.value))\n",
        "\n",
        "print(f\"Accuracy of Linear Discriminant Analysis: {accuracy:.2f}\")\n",
        "\n",
        "\n"
      ],
      "metadata": {
        "id": "ctK-LSY-DXQz",
        "cellView": "form"
      },
      "execution_count": null,
      "outputs": []
    },
    {
      "cell_type": "code",
      "source": [
        "# @title Feature importance of the 3 classes Linear Discriminant Analysis\n",
        "\n",
        "fig, axes = plt.subplots(nrows=1, ncols=3, figsize=(10, 35))\n",
        "fig.subplots_adjust(left=2, right=3, top=1, bottom=0, wspace=2)\n",
        "# fig.tight_layout()\n",
        "\n",
        "coefs1 = pd.DataFrame(lda.coef_[0], columns=[\"Coefficients\"], index=X_train.columns)\n",
        "coefs1 = coefs1.sort_values(\"Coefficients\")\n",
        "\n",
        "coefs2 = pd.DataFrame(lda.coef_[1], columns=[\"Coefficients\"], index=X_train.columns)\n",
        "coefs2 = coefs2.sort_values(\"Coefficients\")\n",
        "\n",
        "coefs3 = pd.DataFrame(lda.coef_[2], columns=[\"Coefficients\"], index=X_train.columns)\n",
        "coefs3 = coefs3.sort_values(\"Coefficients\")\n",
        "\n",
        "# coefs1 = coefs1.sort_values(\"Coefficients\")\n",
        "# coefs1.plot(kind=\"barh\", figsize=(5, 15), ax=axes[1])\n",
        "# plt.title(\"Linear Discriminant Analysis model - Feature importance\")\n",
        "# plt.axvline(x=0, color=\".5\")\n",
        "# coefs2.plot(kind=\"barh\", figsize=(5, 15), ax=axes[0])\n",
        "\n",
        "\n",
        "axes[0].barh(np.arange(len(coefs1)), width=coefs1[\"Coefficients\"]);\n",
        "axes[0].set_title(\"Linear Discriminant Analysis model - Actives vs Others\");\n",
        "axes[0].axvline(x=0, color=\".5\");\n",
        "axes[0].yaxis.set_ticks(np.arange(len(coefs1)));\n",
        "axes[0].yaxis.set_ticklabels(coefs1.index);\n",
        "\n",
        "axes[1].barh(np.arange(len(coefs2)), width=coefs2[\"Coefficients\"]);\n",
        "axes[1].set_title(\"Linear Discriminant Analysis model - Inactives vs Others\");\n",
        "axes[1].axvline(x=0, color=\".5\");\n",
        "axes[1].yaxis.set_ticks(np.arange(len(coefs2)));\n",
        "axes[1].yaxis.set_ticklabels(coefs2.index);\n",
        "\n",
        "axes[2].barh(np.arange(len(coefs3)), width=coefs3[\"Coefficients\"]);\n",
        "axes[2].set_title(\"Linear Discriminant Analysis model - LessActives vs Others\");\n",
        "axes[2].axvline(x=0, color=\".5\");\n",
        "axes[2].yaxis.set_ticks(np.arange(len(coefs3)));\n",
        "axes[2].yaxis.set_ticklabels(coefs3.index);"
      ],
      "metadata": {
        "id": "ANtyHqlFlxph",
        "cellView": "form"
      },
      "execution_count": null,
      "outputs": []
    },
    {
      "cell_type": "code",
      "source": [
        "# @title Linear Discriminant Analysis with 2 classes, 21 pIC50 limits, and Cross-Validation\n",
        "\n",
        "print(\"\\033[1mLDA models are currently being generated. It will take ~1 min\\033[0m\")\n",
        "\n",
        "accuracies_mean = []\n",
        "accuracies_sd = []\n",
        "accuracies_split = []\n",
        "accuracies_nbActives = []\n",
        "accuracies_nbInactives = []\n",
        "\n",
        "for pic50_limit in [j/100 for j in range(500,1001,25)]:\n",
        "  # Load the Iris dataset (or replace this with your dataset)\n",
        "  ygroup2 = []\n",
        "  ycat2 = []\n",
        "  for i in desc_GR_clustered_prep.iloc[:,2]:\n",
        "    if i > pic50_limit:\n",
        "      ygroup2.append(\"Active\")\n",
        "      ycat2.append(1)\n",
        "    else:\n",
        "      ygroup2.append(\"Inactive\")\n",
        "      ycat2.append(0)\n",
        "\n",
        "  desc_GR_activity2 = pd.concat([desc_GR_clustered_prep.iloc[:,:4], pd.DataFrame(ygroup2, columns=[\"Activity_Label\"]), pd.DataFrame(ycat2, columns=[\"Activity\"]), desc_GR_clustered_prep.iloc[:,4:]], axis = \"columns\")\n",
        "\n",
        "  accuracies_nbInactives.append(desc_GR_activity2[\"Activity_Label\"].value_counts()[\"Inactive\"])\n",
        "  accuracies_nbActives.append(desc_GR_activity2[\"Activity_Label\"].value_counts()[\"Active\"])\n",
        "\n",
        "  X2 = desc_GR_activity2.iloc[:,6:]\n",
        "  y2 = desc_GR_activity2.loc[:,\"Activity\"]\n",
        "\n",
        "  # Split the data into training and testing sets\n",
        "  X_train2, X_test2, y_train2, y_test2 = train_test_split(X2, y2, test_size=0.2, random_state=42)\n",
        "\n",
        "  # Create an LDA instance\n",
        "  lda2 = LinearDiscriminantAnalysis(store_covariance=True)\n",
        "\n",
        "  # Fit LDA on the training data\n",
        "  lda2.fit(X_train2, y_train2)\n",
        "\n",
        "  # Predict the classes on the test set\n",
        "  from sklearn.model_selection import cross_val_score\n",
        "  from sklearn.model_selection import RepeatedStratifiedKFold\n",
        "  y_pred2 = lda2.predict(X_test2)\n",
        "\n",
        "  cv = RepeatedStratifiedKFold(n_splits=5, n_repeats=3, random_state=1)\n",
        "  scores = cross_val_score(lda2, X2, y2, scoring='accuracy', cv=cv, n_jobs=-1)\n",
        "\n",
        "  # Calculate accuracy\n",
        "  accuracy2 = accuracy_score(y_test2, y_pred2)\n",
        "\n",
        "  # print(pic50_limit)\n",
        "  # print(np.mean(scores))\n",
        "  # print(f\"Accuracy of Linear Discriminant Analysis: {accuracy2:.2f}\")\n",
        "\n",
        "  accuracies_mean.append(round(np.mean(scores), 2))\n",
        "  accuracies_sd.append(round(np.std(scores), 2))\n",
        "  accuracies_split.append(pic50_limit)\n",
        "\n",
        "\n",
        "\n",
        "plt.scatter(accuracies_split, accuracies_mean)\n",
        "plt.plot(accuracies_split, accuracies_mean)\n",
        "plt.fill_between(accuracies_split, [i-j for i,j in zip(accuracies_mean,accuracies_sd)], [i+j for i,j in zip(accuracies_mean,accuracies_sd)], color=\"#0000FF11\")\n",
        "plt.xlabel(\"Limit of pIC50 between the 2 groups\")\n",
        "plt.ylabel(\"Accuracy\")\n",
        "plt.ylim([0.7,1.05])\n",
        "plt.show()\n",
        "\n",
        "pd.DataFrame([accuracies_mean, accuracies_sd, accuracies_nbActives, accuracies_nbInactives], index=[\"Accuracy mean\", \"Accuracy std\", \"Total actives\", \"Total inactives\"], columns=accuracies_split)\n",
        "\n"
      ],
      "metadata": {
        "cellView": "form",
        "id": "VyCApl7Ebk-0"
      },
      "execution_count": null,
      "outputs": []
    },
    {
      "cell_type": "markdown",
      "source": [
        "## <u>**Random notes**</u>"
      ],
      "metadata": {
        "id": "U-a0SEIUXqai"
      }
    },
    {
      "cell_type": "markdown",
      "source": [
        "### **Subdivided Surface Areas descriptors**\n",
        "The Subdivided Surface Areas are descriptors based on an approximate accessible van der Waals surface area (in Å2) calculation for each atom, along with some other atomic property.\n",
        "\n",
        "- VSA = Van der Waals Surface Area\n",
        "- SMR = Sum of Molecular refractivity\n",
        "- PEOE = Gasteiger-Marsili PEOE algorithm to calculate a definition of atomic partial charges\n",
        "- SLogP = Sum of LogP of atom contributions\n",
        "- EState = Electrotopological States. Electronic characteristics by taking into account the atom type, bond types, connectivity within the molecules.\n",
        "\n",
        "<br />\n",
        "\n",
        "#### **SLogP_VSA** = Contribution of each atom in the molecule to the LogP  compared along with the contribution of each atom to an approximate molecular surface area.\n",
        "SlogP bins = [-0.4, -0.2, 0, 0.1, 0.15, 0.2, 0.25, 0.3, 0.4, 0.5, 0.6]  \n",
        "Ex: SLogP_VSA1 = Sum of surface areas of atoms with an atomic LogP below -0.4\n",
        "\n",
        "<br />\n",
        "\n",
        "#### **SMR_VSA** = Contribution of each atom in the molecule to the Molecular Refractivity compared along with the contribution of each atom to an approximate molecular surface area.\n",
        "SMR bins = [1.29, 1.82, 2.24, 2.45, 2.75, 3.05, 3.63, 3.8, 4.0]  \n",
        "Ex: SMR_VSA2 = Sum of surface areas of atoms with an atomic molecular refractivity between 1.29 and 1.82\n",
        "\n",
        "<br />\n",
        "\n",
        "#### **PEOE_VSA** = Contribution of each atom partial charge in the molecule compared along with the contribution of each atom to an approximate molecular surface area.\n",
        "PEOE bins = [-.3, -.25, -.20, -.15, -.10, -.05, 0, .05, .10, .15, .20, .25, .30]  \n",
        "Ex: PEOE_VSA14 = Sum of surface areas of atoms with partial charges greater than 0.30\n",
        "\n",
        "<br />\n",
        "\n",
        "#### **EState_VSA // VSA_EState** = Contribution of each atom electronic characteristics compared along with the contribution of each atom to an approximate molecular surface area // Contribution of each atom electronic characteristics compared along with the contribution of each atom electronic characteristics\n",
        "vsaBins=[4.78,5.00,5.410,5.740,6.00,6.07,6.45,7.00,11.0]  \n",
        "estateBins=[-0.390,0.290,0.717,1.165,1.540,1.807,2.05,4.69,9.17,15.0]  \n",
        "Ex.1: EState_VSA1 = Sum of surface areas of atoms with EStates lower than -0.390  \n",
        "Ex.2: VSA_EState1 = Sum of EState of atoms with Atomic Surface Areas lower than 4.78 Å2\n",
        "\n"
      ],
      "metadata": {
        "id": "qSoN-jcGyZSq"
      }
    }
  ]
}