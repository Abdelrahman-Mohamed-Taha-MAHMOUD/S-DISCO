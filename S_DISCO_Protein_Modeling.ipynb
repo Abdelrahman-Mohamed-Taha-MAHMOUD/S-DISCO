{
  "cells": [
    {
      "cell_type": "markdown",
      "metadata": {
        "id": "view-in-github",
        "colab_type": "text"
      },
      "source": [
        "<a href=\"https://colab.research.google.com/github/cbedart/S-DISCO/blob/main/S_DISCO_Protein_Modeling.ipynb\" target=\"_parent\"><img src=\"https://colab.research.google.com/assets/colab-badge.svg\" alt=\"Open In Colab\"/></a>"
      ]
    },
    {
      "cell_type": "markdown",
      "source": [
        "**<center><h1>S-DISCO - Protein modeling</h1></center>**\n",
        "\n",
        "\n",
        "\n",
        "---\n",
        "\n"
      ],
      "metadata": {
        "id": "7g3CL85sEaUS"
      }
    },
    {
      "cell_type": "markdown",
      "metadata": {
        "id": "MyLiX-WpEcda"
      },
      "source": [
        "## Software installation"
      ]
    },
    {
      "cell_type": "code",
      "execution_count": null,
      "metadata": {
        "id": "eUxW6aeTDJ3q"
      },
      "outputs": [],
      "source": [
        "!wget https://salilab.org/modeller/10.4/modeller-10.4.tar.gz\n",
        "!tar -zxf modeller-10.4.tar.gz\n",
        "!echo \"MODELLER extraction completed\"\n",
        "%cd modeller-10.4\n",
        "with open('modeller_config', 'a') as f:\n",
        "  f.write(\"2\\n\")\n",
        "  f.write(\"/content/compiled/MODELLER\\n\")\n",
        "  f.write(\"MODELIRANJE\\n\")\n",
        "!./Install < modeller_config\n",
        "!echo \"MODELLER set up completed\"\n",
        "%cd /content/\n",
        "\n",
        "%cd modeller-10.4\n",
        "!ln -sf /content/compiled/MODELLER/bin/mod10.4 /usr/bin/\n",
        "%cd /content/\n",
        "\n",
        "!mod10.4 | awk 'NR==1{if($1==\"usage:\") print \"MODELLER succesfully installed\"; else if($1!=\"usage:\") print \"Something went wrong. Please install again\"}'\n",
        "\n",
        "!pip install biopython\n",
        "!pip install py3Dmol"
      ]
    },
    {
      "cell_type": "code",
      "execution_count": null,
      "metadata": {
        "id": "2Z-K83TpFdui"
      },
      "outputs": [],
      "source": [
        "import os\n",
        "from pathlib import Path\n",
        "import py3Dmol\n",
        "from Bio import SeqIO, Entrez\n",
        "from Bio.PDB import *\n",
        "import ipywidgets as widgets\n",
        "from IPython.display import display\n",
        "from google.colab import files\n",
        "import shutil"
      ]
    },
    {
      "cell_type": "markdown",
      "source": [
        "## References selection"
      ],
      "metadata": {
        "id": "v41SVeQfpB7c"
      }
    },
    {
      "cell_type": "markdown",
      "metadata": {
        "id": "f9q5DrkUdg-C"
      },
      "source": [
        "Select your 3 PDB IDs:"
      ]
    },
    {
      "cell_type": "code",
      "execution_count": null,
      "metadata": {
        "id": "Z-JNjKFgHqpE",
        "cellView": "form"
      },
      "outputs": [],
      "source": [
        "musculus = 'XXXX' # @param {type:\"string\"}\n",
        "norvegicus = 'XXXX' # @param {type:\"string\"}\n",
        "lanceolatum = 'XXXX' # @param {type:\"string\"}\n",
        "\n",
        "musculus = musculus.lower()\n",
        "norvegicus = norvegicus.lower()\n",
        "lanceolatum = lanceolatum.lower()\n",
        "\n",
        "templates = [musculus, norvegicus, lanceolatum]\n",
        "templates = [i.lower() for i in templates]\n",
        "pdbl = PDBList()\n",
        "for s in templates:\n",
        "  pdbl.retrieve_pdb_file(s, pdir='.', file_format =\"pdb\", overwrite=True)\n",
        "  os.rename(\"pdb\"+s+\".ent\", s+\".pdb\")"
      ]
    },
    {
      "cell_type": "markdown",
      "metadata": {
        "id": "yh6caBalEgBU"
      },
      "source": [
        "## MODELLER"
      ]
    },
    {
      "cell_type": "code",
      "execution_count": null,
      "metadata": {
        "colab": {
          "base_uri": "https://localhost:8080/",
          "height": 173,
          "referenced_widgets": [
            "7dea250b94044fcda89338ab6389d89f",
            "1e5e756e5acf4c68be4dffcb4b2a2851",
            "e23f7b7270e6499e8a6cfd8e109fe3b9",
            "bfcf0d5e9e5a402ea14a8830f844b9cf",
            "32d0aefd5f37422da8ec7ed865866e5c",
            "3695dbb693464c17a0499f68f7403a6f",
            "7bb4ad8b819343b88ec8c63fccdf9102",
            "bef4bb550f0544949a4e076d11a2a7e8",
            "7eb274a768d14cb3b09f0ef3b6cbd690",
            "b8387467834d44b6b80d7fa0ecff06ee",
            "742a123ca05949c990db59567bebb735"
          ]
        },
        "id": "iqxPAeduJlaU",
        "outputId": "8aaf2310-f8d2-47ac-82bc-255d1bf06ee7"
      },
      "outputs": [
        {
          "output_type": "display_data",
          "data": {
            "text/plain": [
              "HBox(children=(Label(value='Enter your sequence to build:'), Textarea(value='', layout=Layout(height='120px', …"
            ],
            "application/vnd.jupyter.widget-view+json": {
              "version_major": 2,
              "version_minor": 0,
              "model_id": "7dea250b94044fcda89338ab6389d89f"
            }
          },
          "metadata": {}
        },
        {
          "output_type": "display_data",
          "data": {
            "text/plain": [
              "Button(description='Submit', style=ButtonStyle())"
            ],
            "application/vnd.jupyter.widget-view+json": {
              "version_major": 2,
              "version_minor": 0,
              "model_id": "7eb274a768d14cb3b09f0ef3b6cbd690"
            }
          },
          "metadata": {}
        }
      ],
      "source": [
        "text_area1 = widgets.Textarea(layout=widgets.Layout(width='700px', height='120px'))\n",
        "label = widgets.Label(value='Enter your sequence to build:')\n",
        "hbox = widgets.HBox([label, text_area1])\n",
        "display(hbox)\n",
        "\n",
        "def submit_form1(sender):\n",
        "  global sequence_tobuild\n",
        "  sequence_tobuild = text_area1.value\n",
        "\n",
        "  with open(\"target.fasta\",\"w\") as fileout:\n",
        "    fileout.write(\">target\\n{0}\".format(sequence_tobuild))\n",
        "  print(\"Submitted !\")\n",
        "\n",
        "submit_button = widgets.Button(description='Submit')\n",
        "submit_button.on_click(submit_form1)\n",
        "display(submit_button)"
      ]
    },
    {
      "cell_type": "markdown",
      "source": [
        "## Align the sequences from the PDB structures with the target sequence\n"
      ],
      "metadata": {
        "id": "3rXnI8oW0-eN"
      }
    },
    {
      "cell_type": "markdown",
      "source": [
        "These block of codes will align automatically the target sequence with the reference sequence from the PDB structure. MODELLER requires a specific alignment format (PIR format) which is quite difficult to obtain outside MODELLER. You can convert your FASTA format alignment into a PIR file with some online converters, but it is safer to use the proper alignment tool from MODELLER for the practical sessions.\n",
        "\n",
        "\n",
        "(Note: The \"*'import site' failed; use -v for traceback*\" line is not problematic, and is caused by the use of Colab. Don't take it into account)"
      ],
      "metadata": {
        "id": "EaxHThCY1CrH"
      }
    },
    {
      "cell_type": "code",
      "execution_count": null,
      "metadata": {
        "id": "f1HcSVGueXvU"
      },
      "outputs": [],
      "source": [
        "cmd_alignment_musculus = \"from modeller import *\\nenv = environ()\\naln = alignment(env)\\nmdl = model(env, file='{0}', \\\n",
        "model_segment=('FIRST:A','LAST:A'))\\naln.append_model(mdl, align_codes='{0}A', atom_files='{0}.pdb')\\naln.append(file=\\\n",
        "'target.fasta', align_codes='target', alignment_format='FASTA')\\naln.align2d()\\naln.write(file='aligned_{0}.fasta', alignment_format=\\\n",
        "'FASTA')\\naln.write(file='aligned_{0}.ali', alignment_format='PIR')\\naln.write(file='aligned_{0}.pap', alignment_format='PAP')\\n\".format(musculus)\n",
        "with open(\"alignment_musculus.py\",\"w\") as fileout:\n",
        "  fileout.write(cmd_alignment_musculus)\n",
        "!mod10.4 alignment_musculus.py\n",
        "print(\"Done !\")"
      ]
    },
    {
      "cell_type": "code",
      "execution_count": null,
      "metadata": {
        "id": "oEaQviVzeXpH"
      },
      "outputs": [],
      "source": [
        "cmd_alignment_norvegicus = \"from modeller import *\\nenv = environ()\\naln = alignment(env)\\nmdl = model(env, file='{0}', \\\n",
        "model_segment=('FIRST:A','LAST:A'))\\naln.append_model(mdl, align_codes='{0}A', atom_files='{0}.pdb')\\naln.append(file=\\\n",
        "'target.fasta', align_codes='target', alignment_format='FASTA')\\naln.align2d()\\naln.write(file='aligned_{0}.fasta', alignment_format=\\\n",
        "'FASTA')\\naln.write(file='aligned_{0}.ali', alignment_format='PIR')\\naln.write(file='aligned_{0}.pap', alignment_format='PAP')\\n\".format(norvegicus)\n",
        "with open(\"alignment_norvegicus.py\",\"w\") as fileout:\n",
        "  fileout.write(cmd_alignment_norvegicus)\n",
        "!mod10.4 alignment_norvegicus.py\n",
        "print(\"Done !\")"
      ]
    },
    {
      "cell_type": "code",
      "execution_count": null,
      "metadata": {
        "id": "gu_xkBfJe1VK"
      },
      "outputs": [],
      "source": [
        "cmd_alignment_lanceolatum = \"from modeller import *\\nenv = environ()\\naln = alignment(env)\\nmdl = model(env, file='{0}', \\\n",
        "model_segment=('FIRST:A','LAST:A'))\\naln.append_model(mdl, align_codes='{0}A', atom_files='{0}.pdb')\\naln.append(file=\\\n",
        "'target.fasta', align_codes='target', alignment_format='FASTA')\\naln.align2d()\\naln.write(file='aligned_{0}.fasta', alignment_format=\\\n",
        "'FASTA')\\naln.write(file='aligned_{0}.ali', alignment_format='PIR')\\naln.write(file='aligned_{0}.pap', alignment_format='PAP')\\n\".format(lanceolatum)\n",
        "with open(\"alignment_lanceolatum.py\",\"w\") as fileout:\n",
        "  fileout.write(cmd_alignment_lanceolatum)\n",
        "!mod10.4 alignment_lanceolatum.py\n",
        "print(\"Done !\")"
      ]
    },
    {
      "cell_type": "markdown",
      "source": [
        "## Build the models"
      ],
      "metadata": {
        "id": "jrouPlnS2RRf"
      }
    },
    {
      "cell_type": "markdown",
      "source": [
        "These blocks of code will create a new directory in /content, named after the species name (as an example, /content/musculus for your musculus model). Inside this directory, you will find all the working files: you can take a look at them, especially the *build_musculus.log* file, or the *target.DXXXXX* files, it's really interesting !\n",
        "\n",
        "</br>\n",
        "\n",
        "Every block of code will take approximatively ~3min30 to run, with the creation, optimization and minimization of 10 models to download automatically the best one. You can change this value to a lower number (to get results as fast as possible, 10 is enough), but it is recommended to create around 50 models per run (so ~15 min with Google Colab)\n",
        "\n",
        "</br>\n",
        "\n",
        "(Note: The \"*'import site' failed; use -v for traceback*\" line is not problematic, and is caused by the use of Colab. Don't take it into account)"
      ],
      "metadata": {
        "id": "PgWM9qtB2Tt9"
      }
    },
    {
      "cell_type": "markdown",
      "source": [
        "Shortcut to /content/musculus"
      ],
      "metadata": {
        "id": "m5Sziqyi22l6"
      }
    },
    {
      "cell_type": "code",
      "execution_count": null,
      "metadata": {
        "id": "dzzhmTwqfYb0"
      },
      "outputs": [],
      "source": [
        "number_models_musculus = 10\n",
        "\n",
        "cmd_build_musculus = \"from modeller import *\\nfrom modeller.automodel import *\\n\\nenv = environ()\\na = automodel(env, alnfile='aligned_{0}.ali', knowns='{0}A', sequence='target', assess_methods=(assess.DOPE, assess.GA341))\\na.starting_model = 1\\na.ending_model = {1}\\na.make()\\n\\nok_models = filter(lambda x: x['failure'] is None, a.outputs)\\n\\nkey = 'DOPE score'\\nok_models.sort(lambda a,b: cmp(a[key], b[key]))\\n\\nm = ok_models[0]\\nprint 'Top model: %s (DOPE score %.3f)' % (m['name'], m[key])\".format(musculus, number_models_musculus)\n",
        "with open(\"build_musculus.py\",\"w\") as fileout:\n",
        "  fileout.write(cmd_build_musculus)\n",
        "\n",
        "os.makedirs(\"/content/musculus\", exist_ok = True)\n",
        "!cd /content/musculus\n",
        "shutil.copyfile(\"/content/build_musculus.py\", \"/content/musculus/build_musculus.py\")\n",
        "shutil.copyfile(\"/content/aligned_{0}.ali\".format(musculus), \"/content/musculus/aligned_{0}.ali\".format(musculus))\n",
        "shutil.copyfile(\"/content/{0}.pdb\".format(musculus), \"/content/musculus/{0}.pdb\".format(musculus))\n",
        "\n",
        "os.chdir(\"/content/musculus\")\n",
        "!mod10.4 build_musculus.py\n",
        "print(\"Done !\")\n",
        "\n",
        "with open('build_musculus.log', 'r') as f:\n",
        "    last_line = f.readlines()[-2]\n",
        "    best_musculus = last_line.split(\" \")[2]\n",
        "    print(last_line)\n",
        "\n",
        "!cp $best_musculus best_musculus.pdb\n",
        "!cp best_musculus.pdb /content/best_musculus.pdb\n",
        "os.chdir(\"/content\")\n",
        "files.download('best_musculus.pdb')"
      ]
    },
    {
      "cell_type": "markdown",
      "source": [
        "Shortcut to /content/norvegicus"
      ],
      "metadata": {
        "id": "QDnO6vbcAmjz"
      }
    },
    {
      "cell_type": "code",
      "source": [
        "number_models_norvegicus = 10\n",
        "\n",
        "cmd_build_norvegicus = \"from modeller import *\\nfrom modeller.automodel import *\\n\\nenv = environ()\\na = automodel(env, alnfile='aligned_{0}.ali', knowns='{0}A', sequence='target', assess_methods=(assess.DOPE, assess.GA341))\\na.starting_model = 1\\na.ending_model = {1}\\na.make()\\n\\nok_models = filter(lambda x: x['failure'] is None, a.outputs)\\n\\nkey = 'DOPE score'\\nok_models.sort(lambda a,b: cmp(a[key], b[key]))\\n\\nm = ok_models[0]\\nprint 'Top model: %s (DOPE score %.3f)' % (m['name'], m[key])\".format(norvegicus, number_models_norvegicus)\n",
        "with open(\"build_norvegicus.py\",\"w\") as fileout:\n",
        "  fileout.write(cmd_build_norvegicus)\n",
        "\n",
        "os.makedirs(\"/content/norvegicus\", exist_ok = True)\n",
        "!cd /content/norvegicus\n",
        "shutil.copyfile(\"/content/build_norvegicus.py\", \"/content/norvegicus/build_norvegicus.py\")\n",
        "shutil.copyfile(\"/content/aligned_{0}.ali\".format(norvegicus), \"/content/norvegicus/aligned_{0}.ali\".format(norvegicus))\n",
        "shutil.copyfile(\"/content/{0}.pdb\".format(norvegicus), \"/content/norvegicus/{0}.pdb\".format(norvegicus))\n",
        "\n",
        "os.chdir(\"/content/norvegicus\")\n",
        "!mod10.4 build_norvegicus.py\n",
        "print(\"Done !\")\n",
        "\n",
        "with open('build_norvegicus.log', 'r') as f:\n",
        "    last_line = f.readlines()[-2]\n",
        "    best_norvegicus = last_line.split(\" \")[2]\n",
        "    print(last_line)\n",
        "\n",
        "!cp $best_norvegicus best_norvegicus.pdb\n",
        "!cp best_norvegicus.pdb /content/best_norvegicus.pdb\n",
        "os.chdir(\"/content\")\n",
        "files.download('best_norvegicus.pdb')"
      ],
      "metadata": {
        "id": "Gnw02OvP4F0K"
      },
      "execution_count": null,
      "outputs": []
    },
    {
      "cell_type": "markdown",
      "source": [
        "Shortcut to /content/lanceolatum"
      ],
      "metadata": {
        "id": "HT1c-K3sAopr"
      }
    },
    {
      "cell_type": "code",
      "source": [
        "number_models_lanceolatum = 10\n",
        "\n",
        "cmd_build_lanceolatum = \"from modeller import *\\nfrom modeller.automodel import *\\n\\nenv = environ()\\na = automodel(env, alnfile='aligned_{0}.ali', knowns='{0}A', sequence='target', assess_methods=(assess.DOPE, assess.GA341))\\na.starting_model = 1\\na.ending_model = {1}\\na.make()\\n\\nok_models = filter(lambda x: x['failure'] is None, a.outputs)\\n\\nkey = 'DOPE score'\\nok_models.sort(lambda a,b: cmp(a[key], b[key]))\\n\\nm = ok_models[0]\\nprint 'Top model: %s (DOPE score %.3f)' % (m['name'], m[key])\".format(lanceolatum, number_models_lanceolatum)\n",
        "with open(\"build_lanceolatum.py\",\"w\") as fileout:\n",
        "  fileout.write(cmd_build_lanceolatum)\n",
        "\n",
        "os.makedirs(\"/content/lanceolatum\", exist_ok = True)\n",
        "!cd /content/lanceolatum\n",
        "shutil.copyfile(\"/content/build_lanceolatum.py\", \"/content/lanceolatum/build_lanceolatum.py\")\n",
        "shutil.copyfile(\"/content/aligned_{0}.ali\".format(lanceolatum), \"/content/lanceolatum/aligned_{0}.ali\".format(lanceolatum))\n",
        "shutil.copyfile(\"/content/{0}.pdb\".format(lanceolatum), \"/content/lanceolatum/{0}.pdb\".format(lanceolatum))\n",
        "\n",
        "os.chdir(\"/content/lanceolatum\")\n",
        "!mod10.4 build_lanceolatum.py\n",
        "print(\"Done !\")\n",
        "\n",
        "with open('build_lanceolatum.log', 'r') as f:\n",
        "    last_line = f.readlines()[-2]\n",
        "    best_lanceolatum = last_line.split(\" \")[2]\n",
        "    print(last_line)\n",
        "\n",
        "!cp $best_lanceolatum best_lanceolatum.pdb\n",
        "!cp best_lanceolatum.pdb /content/best_lanceolatum.pdb\n",
        "os.chdir(\"/content\")\n",
        "files.download('best_lanceolatum.pdb')"
      ],
      "metadata": {
        "id": "dfG9A4BP4OyD"
      },
      "execution_count": null,
      "outputs": []
    }
  ],
  "metadata": {
    "colab": {
      "provenance": [],
      "collapsed_sections": [
        "MyLiX-WpEcda"
      ],
      "authorship_tag": "ABX9TyPR3n+ZREJi/heNFENozALF",
      "include_colab_link": true
    },
    "kernelspec": {
      "display_name": "Python 3",
      "name": "python3"
    },
    "language_info": {
      "name": "python"
    },
    "widgets": {
      "application/vnd.jupyter.widget-state+json": {
        "7dea250b94044fcda89338ab6389d89f": {
          "model_module": "@jupyter-widgets/controls",
          "model_name": "HBoxModel",
          "model_module_version": "1.5.0",
          "state": {
            "_dom_classes": [],
            "_model_module": "@jupyter-widgets/controls",
            "_model_module_version": "1.5.0",
            "_model_name": "HBoxModel",
            "_view_count": null,
            "_view_module": "@jupyter-widgets/controls",
            "_view_module_version": "1.5.0",
            "_view_name": "HBoxView",
            "box_style": "",
            "children": [
              "IPY_MODEL_1e5e756e5acf4c68be4dffcb4b2a2851",
              "IPY_MODEL_e23f7b7270e6499e8a6cfd8e109fe3b9"
            ],
            "layout": "IPY_MODEL_bfcf0d5e9e5a402ea14a8830f844b9cf"
          }
        },
        "1e5e756e5acf4c68be4dffcb4b2a2851": {
          "model_module": "@jupyter-widgets/controls",
          "model_name": "LabelModel",
          "model_module_version": "1.5.0",
          "state": {
            "_dom_classes": [],
            "_model_module": "@jupyter-widgets/controls",
            "_model_module_version": "1.5.0",
            "_model_name": "LabelModel",
            "_view_count": null,
            "_view_module": "@jupyter-widgets/controls",
            "_view_module_version": "1.5.0",
            "_view_name": "LabelView",
            "description": "",
            "description_tooltip": null,
            "layout": "IPY_MODEL_32d0aefd5f37422da8ec7ed865866e5c",
            "placeholder": "​",
            "style": "IPY_MODEL_3695dbb693464c17a0499f68f7403a6f",
            "value": "Enter your sequence to build:"
          }
        },
        "e23f7b7270e6499e8a6cfd8e109fe3b9": {
          "model_module": "@jupyter-widgets/controls",
          "model_name": "TextareaModel",
          "model_module_version": "1.5.0",
          "state": {
            "_dom_classes": [],
            "_model_module": "@jupyter-widgets/controls",
            "_model_module_version": "1.5.0",
            "_model_name": "TextareaModel",
            "_view_count": null,
            "_view_module": "@jupyter-widgets/controls",
            "_view_module_version": "1.5.0",
            "_view_name": "TextareaView",
            "continuous_update": true,
            "description": "",
            "description_tooltip": null,
            "disabled": false,
            "layout": "IPY_MODEL_7bb4ad8b819343b88ec8c63fccdf9102",
            "placeholder": "​",
            "rows": null,
            "style": "IPY_MODEL_bef4bb550f0544949a4e076d11a2a7e8",
            "value": ""
          }
        },
        "bfcf0d5e9e5a402ea14a8830f844b9cf": {
          "model_module": "@jupyter-widgets/base",
          "model_name": "LayoutModel",
          "model_module_version": "1.2.0",
          "state": {
            "_model_module": "@jupyter-widgets/base",
            "_model_module_version": "1.2.0",
            "_model_name": "LayoutModel",
            "_view_count": null,
            "_view_module": "@jupyter-widgets/base",
            "_view_module_version": "1.2.0",
            "_view_name": "LayoutView",
            "align_content": null,
            "align_items": null,
            "align_self": null,
            "border": null,
            "bottom": null,
            "display": null,
            "flex": null,
            "flex_flow": null,
            "grid_area": null,
            "grid_auto_columns": null,
            "grid_auto_flow": null,
            "grid_auto_rows": null,
            "grid_column": null,
            "grid_gap": null,
            "grid_row": null,
            "grid_template_areas": null,
            "grid_template_columns": null,
            "grid_template_rows": null,
            "height": null,
            "justify_content": null,
            "justify_items": null,
            "left": null,
            "margin": null,
            "max_height": null,
            "max_width": null,
            "min_height": null,
            "min_width": null,
            "object_fit": null,
            "object_position": null,
            "order": null,
            "overflow": null,
            "overflow_x": null,
            "overflow_y": null,
            "padding": null,
            "right": null,
            "top": null,
            "visibility": null,
            "width": null
          }
        },
        "32d0aefd5f37422da8ec7ed865866e5c": {
          "model_module": "@jupyter-widgets/base",
          "model_name": "LayoutModel",
          "model_module_version": "1.2.0",
          "state": {
            "_model_module": "@jupyter-widgets/base",
            "_model_module_version": "1.2.0",
            "_model_name": "LayoutModel",
            "_view_count": null,
            "_view_module": "@jupyter-widgets/base",
            "_view_module_version": "1.2.0",
            "_view_name": "LayoutView",
            "align_content": null,
            "align_items": null,
            "align_self": null,
            "border": null,
            "bottom": null,
            "display": null,
            "flex": null,
            "flex_flow": null,
            "grid_area": null,
            "grid_auto_columns": null,
            "grid_auto_flow": null,
            "grid_auto_rows": null,
            "grid_column": null,
            "grid_gap": null,
            "grid_row": null,
            "grid_template_areas": null,
            "grid_template_columns": null,
            "grid_template_rows": null,
            "height": null,
            "justify_content": null,
            "justify_items": null,
            "left": null,
            "margin": null,
            "max_height": null,
            "max_width": null,
            "min_height": null,
            "min_width": null,
            "object_fit": null,
            "object_position": null,
            "order": null,
            "overflow": null,
            "overflow_x": null,
            "overflow_y": null,
            "padding": null,
            "right": null,
            "top": null,
            "visibility": null,
            "width": null
          }
        },
        "3695dbb693464c17a0499f68f7403a6f": {
          "model_module": "@jupyter-widgets/controls",
          "model_name": "DescriptionStyleModel",
          "model_module_version": "1.5.0",
          "state": {
            "_model_module": "@jupyter-widgets/controls",
            "_model_module_version": "1.5.0",
            "_model_name": "DescriptionStyleModel",
            "_view_count": null,
            "_view_module": "@jupyter-widgets/base",
            "_view_module_version": "1.2.0",
            "_view_name": "StyleView",
            "description_width": ""
          }
        },
        "7bb4ad8b819343b88ec8c63fccdf9102": {
          "model_module": "@jupyter-widgets/base",
          "model_name": "LayoutModel",
          "model_module_version": "1.2.0",
          "state": {
            "_model_module": "@jupyter-widgets/base",
            "_model_module_version": "1.2.0",
            "_model_name": "LayoutModel",
            "_view_count": null,
            "_view_module": "@jupyter-widgets/base",
            "_view_module_version": "1.2.0",
            "_view_name": "LayoutView",
            "align_content": null,
            "align_items": null,
            "align_self": null,
            "border": null,
            "bottom": null,
            "display": null,
            "flex": null,
            "flex_flow": null,
            "grid_area": null,
            "grid_auto_columns": null,
            "grid_auto_flow": null,
            "grid_auto_rows": null,
            "grid_column": null,
            "grid_gap": null,
            "grid_row": null,
            "grid_template_areas": null,
            "grid_template_columns": null,
            "grid_template_rows": null,
            "height": "120px",
            "justify_content": null,
            "justify_items": null,
            "left": null,
            "margin": null,
            "max_height": null,
            "max_width": null,
            "min_height": null,
            "min_width": null,
            "object_fit": null,
            "object_position": null,
            "order": null,
            "overflow": null,
            "overflow_x": null,
            "overflow_y": null,
            "padding": null,
            "right": null,
            "top": null,
            "visibility": null,
            "width": "700px"
          }
        },
        "bef4bb550f0544949a4e076d11a2a7e8": {
          "model_module": "@jupyter-widgets/controls",
          "model_name": "DescriptionStyleModel",
          "model_module_version": "1.5.0",
          "state": {
            "_model_module": "@jupyter-widgets/controls",
            "_model_module_version": "1.5.0",
            "_model_name": "DescriptionStyleModel",
            "_view_count": null,
            "_view_module": "@jupyter-widgets/base",
            "_view_module_version": "1.2.0",
            "_view_name": "StyleView",
            "description_width": ""
          }
        },
        "7eb274a768d14cb3b09f0ef3b6cbd690": {
          "model_module": "@jupyter-widgets/controls",
          "model_name": "ButtonModel",
          "model_module_version": "1.5.0",
          "state": {
            "_dom_classes": [],
            "_model_module": "@jupyter-widgets/controls",
            "_model_module_version": "1.5.0",
            "_model_name": "ButtonModel",
            "_view_count": null,
            "_view_module": "@jupyter-widgets/controls",
            "_view_module_version": "1.5.0",
            "_view_name": "ButtonView",
            "button_style": "",
            "description": "Submit",
            "disabled": false,
            "icon": "",
            "layout": "IPY_MODEL_b8387467834d44b6b80d7fa0ecff06ee",
            "style": "IPY_MODEL_742a123ca05949c990db59567bebb735",
            "tooltip": ""
          }
        },
        "b8387467834d44b6b80d7fa0ecff06ee": {
          "model_module": "@jupyter-widgets/base",
          "model_name": "LayoutModel",
          "model_module_version": "1.2.0",
          "state": {
            "_model_module": "@jupyter-widgets/base",
            "_model_module_version": "1.2.0",
            "_model_name": "LayoutModel",
            "_view_count": null,
            "_view_module": "@jupyter-widgets/base",
            "_view_module_version": "1.2.0",
            "_view_name": "LayoutView",
            "align_content": null,
            "align_items": null,
            "align_self": null,
            "border": null,
            "bottom": null,
            "display": null,
            "flex": null,
            "flex_flow": null,
            "grid_area": null,
            "grid_auto_columns": null,
            "grid_auto_flow": null,
            "grid_auto_rows": null,
            "grid_column": null,
            "grid_gap": null,
            "grid_row": null,
            "grid_template_areas": null,
            "grid_template_columns": null,
            "grid_template_rows": null,
            "height": null,
            "justify_content": null,
            "justify_items": null,
            "left": null,
            "margin": null,
            "max_height": null,
            "max_width": null,
            "min_height": null,
            "min_width": null,
            "object_fit": null,
            "object_position": null,
            "order": null,
            "overflow": null,
            "overflow_x": null,
            "overflow_y": null,
            "padding": null,
            "right": null,
            "top": null,
            "visibility": null,
            "width": null
          }
        },
        "742a123ca05949c990db59567bebb735": {
          "model_module": "@jupyter-widgets/controls",
          "model_name": "ButtonStyleModel",
          "model_module_version": "1.5.0",
          "state": {
            "_model_module": "@jupyter-widgets/controls",
            "_model_module_version": "1.5.0",
            "_model_name": "ButtonStyleModel",
            "_view_count": null,
            "_view_module": "@jupyter-widgets/base",
            "_view_module_version": "1.2.0",
            "_view_name": "StyleView",
            "button_color": null,
            "font_weight": ""
          }
        }
      }
    }
  },
  "nbformat": 4,
  "nbformat_minor": 0
}