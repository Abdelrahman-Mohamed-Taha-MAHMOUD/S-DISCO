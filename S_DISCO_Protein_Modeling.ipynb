{
  "cells": [
    {
      "cell_type": "markdown",
      "metadata": {
        "id": "view-in-github",
        "colab_type": "text"
      },
      "source": [
        "<a href=\"https://colab.research.google.com/github/cbedart/S-DISCO/blob/main/S_DISCO_Protein_Modeling.ipynb\" target=\"_parent\"><img src=\"https://colab.research.google.com/assets/colab-badge.svg\" alt=\"Open In Colab\"/></a>"
      ]
    },
    {
      "cell_type": "markdown",
      "source": [
        "**<center><h1>S-DISCO - Protein modeling</h1></center>**\n",
        "\n",
        "\n",
        "\n",
        "---\n",
        "\n"
      ],
      "metadata": {
        "id": "7g3CL85sEaUS"
      }
    },
    {
      "cell_type": "markdown",
      "metadata": {
        "id": "MyLiX-WpEcda"
      },
      "source": [
        "## Software installation"
      ]
    },
    {
      "cell_type": "code",
      "execution_count": 4,
      "metadata": {
        "id": "eUxW6aeTDJ3q",
        "colab": {
          "base_uri": "https://localhost:8080/"
        },
        "outputId": "2d689acb-c725-4235-d505-24995bd281ff"
      },
      "outputs": [
        {
          "output_type": "stream",
          "name": "stdout",
          "text": [
            "--2023-11-15 13:25:58--  https://salilab.org/modeller/10.4/modeller-10.4.tar.gz\n",
            "Resolving salilab.org (salilab.org)... 169.230.79.19\n",
            "Connecting to salilab.org (salilab.org)|169.230.79.19|:443... connected.\n",
            "HTTP request sent, awaiting response... 200 OK\n",
            "Length: 38244158 (36M) [application/x-gzip]\n",
            "Saving to: ‘modeller-10.4.tar.gz.1’\n",
            "\n",
            "modeller-10.4.tar.g 100%[===================>]  36.47M  26.4MB/s    in 1.4s    \n",
            "\n",
            "2023-11-15 13:26:00 (26.4 MB/s) - ‘modeller-10.4.tar.gz.1’ saved [38244158/38244158]\n",
            "\n",
            "MODELLER extraction completed\n",
            "/content/modeller-10.4\n",
            "\u001b[H\u001b[2JInstallation of MODELLER 10.4\n",
            "\n",
            "This script will install MODELLER 10.4 into a specified directory\n",
            "for which you have read/write permissions.\n",
            "\n",
            "To accept the default answers indicated in [...], press <Enter> only.\n",
            "\n",
            "------------------------------------------------------------------------\n",
            "\n",
            "The currently supported architectures are as follows:\n",
            "\n",
            "   1) Linux x86 PC (e.g. RedHat, SuSe).\n",
            "   2) x86_64 (Opteron/EM64T) box (Linux).\n",
            "   3) Alternative x86 Linux binary (e.g. for FreeBSD).\n",
            "   4) Linux on 32-bit ARM (e.g. for Raspberry Pi).\n",
            "   5) Linux on 64-bit ARM (e.g. for Raspberry Pi 3 or later).\n",
            "\n",
            "Select the type of your computer from the list above [2]: \n",
            "\n",
            "Full directory name in which to install MODELLER 10.4\n",
            "[/root/bin/modeller10.4]: \n",
            "\n",
            "License key, obtained from our academic license server at\n",
            "https://salilab.org/modeller/registration.html: \n",
            "------------------------------------------------------------------------\n",
            "\n",
            "The following settings will be used: \n",
            "\n",
            "The type of this machine          : x86_64-intel8\n",
            "Destination installation directory: /content/compiled/MODELLER\n",
            "License key                       : MODELIRANJE\n",
            "\n",
            "If they are incorrect, abort installation (ctrl-c) and run Install again.\n",
            "\n",
            "Press <Enter> to begin the installation: \n",
            "------------------------------------------------------------------------\n",
            "\n",
            "Installing Modeller files ...\n",
            "\n",
            "------------------------------------------------------------------------\n",
            "\n",
            "Creating Modeller startup scripts ...\n",
            "Configuring install ...\n",
            "Installation complete.\n",
            "Press <Enter> to continue: \n",
            "------------------------------------------------------------------------\n",
            "The best way to use Modeller is as a Python module, if you have Python\n",
            "installed (any version between 2.3 and 3.11). Do this using the script:\n",
            "/content/compiled/MODELLER/bin/modpy.sh\n",
            "Simply add your regular Python command line after this script, e.g.\n",
            "/content/compiled/MODELLER/bin/modpy.sh python3 myscript.py\n",
            "\n",
            "Alternatively, you can skip the 'modpy.sh' prefix if you ensure that the\n",
            "following directories containing Python modules are in your Python path:\n",
            "/content/compiled/MODELLER/modlib\n",
            "/content/compiled/MODELLER/lib/x86_64-intel8 (for Python 2.3 or Python 2.4)\n",
            "/content/compiled/MODELLER/lib/x86_64-intel8/python2.5 (for Python 2.5 to 2.7)\n",
            "/content/compiled/MODELLER/lib/x86_64-intel8/python3.0 (for Python 3.0, 3.1)\n",
            "/content/compiled/MODELLER/lib/x86_64-intel8/python3.2 (for Python 3.2)\n",
            "/content/compiled/MODELLER/lib/x86_64-intel8/python3.3 (for Python 3.3 to 3.11)\n",
            "(e.g. by setting the PYTHONPATH environment variable) and that the\n",
            "following directory containing dynamic libraries is in your dynamic\n",
            "library search path:\n",
            "/content/compiled/MODELLER/lib/x86_64-intel8\n",
            "(e.g. by setting the LD_LIBRARY_PATH variable - LIBPATH on AIX systems).\n",
            "Ask your systems administrator for help if you wish to do this.\n",
            "------------------------------------------------------------------------\n",
            "\n",
            "Press <Enter> to continue: \n",
            "------------------------------------------------------------------------\n",
            "\n",
            "If you don't have Python installed, you can also use the\n",
            "/content/compiled/MODELLER/bin/mod10.4 script to run Modeller,\n",
            "although note that some advanced functionality, such as parallel job\n",
            "support, requires Python.\n",
            "\n",
            "------------------------------------------------------------------------\n",
            "\n",
            "If you have problems with installation, please see the INSTALLATION file.\n",
            "\n",
            "Documentation in HTML format can be found in the\n",
            "/content/compiled/MODELLER/doc directory.\n",
            "\n",
            "A simple homology modeling test case is in examples/automodel/.\n",
            "\n",
            "------------------------------------------------------------------------\n",
            "\n",
            "Happy modeling!\n",
            "MODELLER Team, 2022/10/28, r12463\n",
            "\n",
            "MODELLER set up completed\n",
            "/content\n",
            "/content/modeller-10.4\n",
            "/content\n",
            "MODELLER succesfully installed\n",
            "Requirement already satisfied: biopython in /usr/local/lib/python3.10/dist-packages (1.81)\n",
            "Requirement already satisfied: numpy in /usr/local/lib/python3.10/dist-packages (from biopython) (1.23.5)\n",
            "Requirement already satisfied: py3Dmol in /usr/local/lib/python3.10/dist-packages (2.0.4)\n"
          ]
        }
      ],
      "source": [
        "!wget https://salilab.org/modeller/10.4/modeller-10.4.tar.gz\n",
        "!tar -zxf modeller-10.4.tar.gz\n",
        "!echo \"MODELLER extraction completed\"\n",
        "%cd modeller-10.4\n",
        "with open('modeller_config', 'a') as f:\n",
        "  f.write(\"2\\n\")\n",
        "  f.write(\"/content/compiled/MODELLER\\n\")\n",
        "  f.write(\"MODELIRANJE\\n\")\n",
        "!./Install < modeller_config\n",
        "!echo \"MODELLER set up completed\"\n",
        "%cd /content/\n",
        "\n",
        "%cd modeller-10.4\n",
        "!ln -sf /content/compiled/MODELLER/bin/mod10.4 /usr/bin/\n",
        "%cd /content/\n",
        "\n",
        "!mod10.4 | awk 'NR==1{if($1==\"usage:\") print \"MODELLER succesfully installed\"; else if($1!=\"usage:\") print \"Something went wrong. Please install again\"}'\n",
        "\n",
        "!pip install biopython\n",
        "!pip install py3Dmol"
      ]
    },
    {
      "cell_type": "code",
      "execution_count": 5,
      "metadata": {
        "id": "2Z-K83TpFdui"
      },
      "outputs": [],
      "source": [
        "import os\n",
        "from pathlib import Path\n",
        "import py3Dmol\n",
        "from Bio import SeqIO, Entrez\n",
        "from Bio.PDB import *\n",
        "import ipywidgets as widgets\n",
        "from IPython.display import display\n",
        "from google.colab import files\n",
        "import shutil"
      ]
    },
    {
      "cell_type": "markdown",
      "source": [
        "## References selection"
      ],
      "metadata": {
        "id": "v41SVeQfpB7c"
      }
    },
    {
      "cell_type": "markdown",
      "metadata": {
        "id": "f9q5DrkUdg-C"
      },
      "source": [
        "Select your 3 PDB IDs:"
      ]
    },
    {
      "cell_type": "code",
      "execution_count": null,
      "metadata": {
        "id": "Z-JNjKFgHqpE",
        "cellView": "form"
      },
      "outputs": [],
      "source": [
        "musculus = 'XXXX' # @param {type:\"string\"}\n",
        "norvegicus = 'XXXX' # @param {type:\"string\"}\n",
        "lanceolatum = 'XXXX' # @param {type:\"string\"}\n",
        "\n",
        "musculus = musculus.lower()\n",
        "norvegicus = norvegicus.lower()\n",
        "lanceolatum = lanceolatum.lower()\n",
        "\n",
        "templates = [musculus, norvegicus, lanceolatum]\n",
        "templates = [i.lower() for i in templates]\n",
        "pdbl = PDBList()\n",
        "for s in templates:\n",
        "  pdbl.retrieve_pdb_file(s, pdir='.', file_format =\"pdb\", overwrite=True)\n",
        "  os.rename(\"pdb\"+s+\".ent\", s+\".pdb\")"
      ]
    },
    {
      "cell_type": "markdown",
      "metadata": {
        "id": "yh6caBalEgBU"
      },
      "source": [
        "## MODELLER"
      ]
    },
    {
      "cell_type": "code",
      "execution_count": null,
      "metadata": {
        "colab": {
          "base_uri": "https://localhost:8080/",
          "height": 173,
          "referenced_widgets": [
            "7dea250b94044fcda89338ab6389d89f",
            "1e5e756e5acf4c68be4dffcb4b2a2851",
            "e23f7b7270e6499e8a6cfd8e109fe3b9",
            "bfcf0d5e9e5a402ea14a8830f844b9cf",
            "32d0aefd5f37422da8ec7ed865866e5c",
            "3695dbb693464c17a0499f68f7403a6f",
            "7bb4ad8b819343b88ec8c63fccdf9102",
            "bef4bb550f0544949a4e076d11a2a7e8",
            "7eb274a768d14cb3b09f0ef3b6cbd690",
            "b8387467834d44b6b80d7fa0ecff06ee",
            "742a123ca05949c990db59567bebb735"
          ]
        },
        "id": "iqxPAeduJlaU",
        "outputId": "8aaf2310-f8d2-47ac-82bc-255d1bf06ee7"
      },
      "outputs": [
        {
          "output_type": "display_data",
          "data": {
            "text/plain": [
              "HBox(children=(Label(value='Enter your sequence to build:'), Textarea(value='', layout=Layout(height='120px', …"
            ],
            "application/vnd.jupyter.widget-view+json": {
              "version_major": 2,
              "version_minor": 0,
              "model_id": "7dea250b94044fcda89338ab6389d89f"
            }
          },
          "metadata": {}
        },
        {
          "output_type": "display_data",
          "data": {
            "text/plain": [
              "Button(description='Submit', style=ButtonStyle())"
            ],
            "application/vnd.jupyter.widget-view+json": {
              "version_major": 2,
              "version_minor": 0,
              "model_id": "7eb274a768d14cb3b09f0ef3b6cbd690"
            }
          },
          "metadata": {}
        }
      ],
      "source": [
        "text_area1 = widgets.Textarea(layout=widgets.Layout(width='700px', height='120px'))\n",
        "label = widgets.Label(value='Enter your sequence to build:')\n",
        "hbox = widgets.HBox([label, text_area1])\n",
        "display(hbox)\n",
        "\n",
        "def submit_form1(sender):\n",
        "  global sequence_tobuild\n",
        "  sequence_tobuild = text_area1.value\n",
        "\n",
        "  with open(\"target.fasta\",\"w\") as fileout:\n",
        "    fileout.write(\">target\\n{0}\".format(sequence_tobuild))\n",
        "  print(\"Submitted !\")\n",
        "\n",
        "submit_button = widgets.Button(description='Submit')\n",
        "submit_button.on_click(submit_form1)\n",
        "display(submit_button)"
      ]
    },
    {
      "cell_type": "markdown",
      "source": [
        "## Align the sequences from the PDB structures with the target sequence\n"
      ],
      "metadata": {
        "id": "3rXnI8oW0-eN"
      }
    },
    {
      "cell_type": "markdown",
      "source": [
        "These block of codes will align automatically the target sequence with the reference sequence from the PDB structure. MODELLER requires a specific alignment format (PIR format) which is quite difficult to obtain outside MODELLER. You can convert your FASTA format alignment into a PIR file with some online converters, but it is safer to use the proper alignment tool from MODELLER for the practical sessions.\n",
        "\n",
        "\n",
        "(Note: The \"*'import site' failed; use -v for traceback*\" line is not problematic, and is caused by the use of Colab. Don't take it into account)"
      ],
      "metadata": {
        "id": "EaxHThCY1CrH"
      }
    },
    {
      "cell_type": "code",
      "execution_count": null,
      "metadata": {
        "id": "f1HcSVGueXvU"
      },
      "outputs": [],
      "source": [
        "cmd_alignment_musculus = \"from modeller import *\\nenv = environ()\\naln = alignment(env)\\nmdl = model(env, file='{0}', \\\n",
        "model_segment=('FIRST:A','LAST:A'))\\naln.append_model(mdl, align_codes='{0}A', atom_files='{0}.pdb')\\naln.append(file=\\\n",
        "'target.fasta', align_codes='target', alignment_format='FASTA')\\naln.align2d()\\naln.write(file='aligned_{0}.fasta', alignment_format=\\\n",
        "'FASTA')\\naln.write(file='aligned_{0}.ali', alignment_format='PIR')\\naln.write(file='aligned_{0}.pap', alignment_format='PAP')\\n\".format(musculus)\n",
        "with open(\"alignment_musculus.py\",\"w\") as fileout:\n",
        "  fileout.write(cmd_alignment_musculus)\n",
        "!mod10.4 alignment_musculus.py\n",
        "print(\"Done !\")"
      ]
    },
    {
      "cell_type": "code",
      "execution_count": null,
      "metadata": {
        "id": "oEaQviVzeXpH"
      },
      "outputs": [],
      "source": [
        "cmd_alignment_norvegicus = \"from modeller import *\\nenv = environ()\\naln = alignment(env)\\nmdl = model(env, file='{0}', \\\n",
        "model_segment=('FIRST:A','LAST:A'))\\naln.append_model(mdl, align_codes='{0}A', atom_files='{0}.pdb')\\naln.append(file=\\\n",
        "'target.fasta', align_codes='target', alignment_format='FASTA')\\naln.align2d()\\naln.write(file='aligned_{0}.fasta', alignment_format=\\\n",
        "'FASTA')\\naln.write(file='aligned_{0}.ali', alignment_format='PIR')\\naln.write(file='aligned_{0}.pap', alignment_format='PAP')\\n\".format(norvegicus)\n",
        "with open(\"alignment_norvegicus.py\",\"w\") as fileout:\n",
        "  fileout.write(cmd_alignment_norvegicus)\n",
        "!mod10.4 alignment_norvegicus.py\n",
        "print(\"Done !\")"
      ]
    },
    {
      "cell_type": "code",
      "execution_count": null,
      "metadata": {
        "id": "gu_xkBfJe1VK"
      },
      "outputs": [],
      "source": [
        "cmd_alignment_lanceolatum = \"from modeller import *\\nenv = environ()\\naln = alignment(env)\\nmdl = model(env, file='{0}', \\\n",
        "model_segment=('FIRST:A','LAST:A'))\\naln.append_model(mdl, align_codes='{0}A', atom_files='{0}.pdb')\\naln.append(file=\\\n",
        "'target.fasta', align_codes='target', alignment_format='FASTA')\\naln.align2d()\\naln.write(file='aligned_{0}.fasta', alignment_format=\\\n",
        "'FASTA')\\naln.write(file='aligned_{0}.ali', alignment_format='PIR')\\naln.write(file='aligned_{0}.pap', alignment_format='PAP')\\n\".format(lanceolatum)\n",
        "with open(\"alignment_lanceolatum.py\",\"w\") as fileout:\n",
        "  fileout.write(cmd_alignment_lanceolatum)\n",
        "!mod10.4 alignment_lanceolatum.py\n",
        "print(\"Done !\")"
      ]
    },
    {
      "cell_type": "markdown",
      "source": [
        "## Build the models"
      ],
      "metadata": {
        "id": "jrouPlnS2RRf"
      }
    },
    {
      "cell_type": "markdown",
      "source": [
        "These blocks of code will create a new directory in /content, named after the species name (as an example, /content/musculus for your musculus model). Inside this directory, you will find all the working files: you can take a look at them, especially the *build_musculus.log* file, or the *target.DXXXXX* files, it's really interesting !\n",
        "\n",
        "</br>\n",
        "\n",
        "Every block of code will take approximatively ~3min30 to run, with the creation, optimization and minimization of 10 models to download automatically the best one. You can change this value to a lower number (to get results as fast as possible, 10 is enough), but it is recommended to create around 50 models per run (so ~15 min with Google Colab)\n",
        "\n",
        "</br>\n",
        "\n",
        "(Note: The \"*'import site' failed; use -v for traceback*\" line is not problematic, and is caused by the use of Colab. Don't take it into account)"
      ],
      "metadata": {
        "id": "PgWM9qtB2Tt9"
      }
    },
    {
      "cell_type": "markdown",
      "source": [
        "Shortcut to /content/musculus"
      ],
      "metadata": {
        "id": "m5Sziqyi22l6"
      }
    },
    {
      "cell_type": "code",
      "execution_count": null,
      "metadata": {
        "id": "dzzhmTwqfYb0"
      },
      "outputs": [],
      "source": [
        "number_models_musculus = 10\n",
        "\n",
        "cmd_build_musculus = \"from modeller import *\\nfrom modeller.automodel import *\\n\\nenv = environ()\\na = automodel(env, alnfile='aligned_{0}.ali', knowns='{0}A', sequence='target', assess_methods=(assess.DOPE, assess.GA341))\\na.starting_model = 1\\na.ending_model = {1}\\na.make()\\n\\nok_models = filter(lambda x: x['failure'] is None, a.outputs)\\n\\nkey = 'DOPE score'\\nok_models.sort(lambda a,b: cmp(a[key], b[key]))\\n\\nm = ok_models[0]\\nprint 'Top model: %s (DOPE score %.3f)' % (m['name'], m[key])\".format(musculus, number_models_musculus)\n",
        "with open(\"build_musculus.py\",\"w\") as fileout:\n",
        "  fileout.write(cmd_build_musculus)\n",
        "\n",
        "os.makedirs(\"/content/musculus\", exist_ok = True)\n",
        "!cd /content/musculus\n",
        "shutil.copyfile(\"/content/build_musculus.py\", \"/content/musculus/build_musculus.py\")\n",
        "shutil.copyfile(\"/content/aligned_{0}.ali\".format(musculus), \"/content/musculus/aligned_{0}.ali\".format(musculus))\n",
        "shutil.copyfile(\"/content/{0}.pdb\".format(musculus), \"/content/musculus/{0}.pdb\".format(musculus))\n",
        "\n",
        "os.chdir(\"/content/musculus\")\n",
        "!mod10.4 build_musculus.py\n",
        "print(\"Done !\")\n",
        "\n",
        "with open('build_musculus.log', 'r') as f:\n",
        "    last_line = f.readlines()[-2]\n",
        "    best_musculus = last_line.split(\" \")[2]\n",
        "    print(last_line)\n",
        "\n",
        "!cp $best_musculus best_musculus.pdb\n",
        "!cp best_musculus.pdb /content/best_musculus.pdb\n",
        "os.chdir(\"/content\")\n",
        "files.download('best_musculus.pdb')"
      ]
    },
    {
      "cell_type": "markdown",
      "source": [
        "Shortcut to /content/norvegicus"
      ],
      "metadata": {
        "id": "QDnO6vbcAmjz"
      }
    },
    {
      "cell_type": "code",
      "source": [
        "number_models_norvegicus = 10\n",
        "\n",
        "cmd_build_norvegicus = \"from modeller import *\\nfrom modeller.automodel import *\\n\\nenv = environ()\\na = automodel(env, alnfile='aligned_{0}.ali', knowns='{0}A', sequence='target', assess_methods=(assess.DOPE, assess.GA341))\\na.starting_model = 1\\na.ending_model = {1}\\na.make()\\n\\nok_models = filter(lambda x: x['failure'] is None, a.outputs)\\n\\nkey = 'DOPE score'\\nok_models.sort(lambda a,b: cmp(a[key], b[key]))\\n\\nm = ok_models[0]\\nprint 'Top model: %s (DOPE score %.3f)' % (m['name'], m[key])\".format(norvegicus, number_models_norvegicus)\n",
        "with open(\"build_norvegicus.py\",\"w\") as fileout:\n",
        "  fileout.write(cmd_build_norvegicus)\n",
        "\n",
        "os.makedirs(\"/content/norvegicus\", exist_ok = True)\n",
        "!cd /content/norvegicus\n",
        "shutil.copyfile(\"/content/build_norvegicus.py\", \"/content/norvegicus/build_norvegicus.py\")\n",
        "shutil.copyfile(\"/content/aligned_{0}.ali\".format(norvegicus), \"/content/norvegicus/aligned_{0}.ali\".format(norvegicus))\n",
        "shutil.copyfile(\"/content/{0}.pdb\".format(norvegicus), \"/content/norvegicus/{0}.pdb\".format(norvegicus))\n",
        "\n",
        "os.chdir(\"/content/norvegicus\")\n",
        "!mod10.4 build_norvegicus.py\n",
        "print(\"Done !\")\n",
        "\n",
        "with open('build_norvegicus.log', 'r') as f:\n",
        "    last_line = f.readlines()[-2]\n",
        "    best_norvegicus = last_line.split(\" \")[2]\n",
        "    print(last_line)\n",
        "\n",
        "!cp $best_norvegicus best_norvegicus.pdb\n",
        "!cp best_norvegicus.pdb /content/best_norvegicus.pdb\n",
        "os.chdir(\"/content\")\n",
        "files.download('best_norvegicus.pdb')"
      ],
      "metadata": {
        "id": "Gnw02OvP4F0K"
      },
      "execution_count": null,
      "outputs": []
    },
    {
      "cell_type": "markdown",
      "source": [
        "Shortcut to /content/lanceolatum"
      ],
      "metadata": {
        "id": "HT1c-K3sAopr"
      }
    },
    {
      "cell_type": "code",
      "source": [
        "number_models_lanceolatum = 10\n",
        "\n",
        "cmd_build_lanceolatum = \"from modeller import *\\nfrom modeller.automodel import *\\n\\nenv = environ()\\na = automodel(env, alnfile='aligned_{0}.ali', knowns='{0}A', sequence='target', assess_methods=(assess.DOPE, assess.GA341))\\na.starting_model = 1\\na.ending_model = {1}\\na.make()\\n\\nok_models = filter(lambda x: x['failure'] is None, a.outputs)\\n\\nkey = 'DOPE score'\\nok_models.sort(lambda a,b: cmp(a[key], b[key]))\\n\\nm = ok_models[0]\\nprint 'Top model: %s (DOPE score %.3f)' % (m['name'], m[key])\".format(lanceolatum, number_models_lanceolatum)\n",
        "with open(\"build_lanceolatum.py\",\"w\") as fileout:\n",
        "  fileout.write(cmd_build_lanceolatum)\n",
        "\n",
        "os.makedirs(\"/content/lanceolatum\", exist_ok = True)\n",
        "!cd /content/lanceolatum\n",
        "shutil.copyfile(\"/content/build_lanceolatum.py\", \"/content/lanceolatum/build_lanceolatum.py\")\n",
        "shutil.copyfile(\"/content/aligned_{0}.ali\".format(lanceolatum), \"/content/lanceolatum/aligned_{0}.ali\".format(lanceolatum))\n",
        "shutil.copyfile(\"/content/{0}.pdb\".format(lanceolatum), \"/content/lanceolatum/{0}.pdb\".format(lanceolatum))\n",
        "\n",
        "os.chdir(\"/content/lanceolatum\")\n",
        "!mod10.4 build_lanceolatum.py\n",
        "print(\"Done !\")\n",
        "\n",
        "with open('build_lanceolatum.log', 'r') as f:\n",
        "    last_line = f.readlines()[-2]\n",
        "    best_lanceolatum = last_line.split(\" \")[2]\n",
        "    print(last_line)\n",
        "\n",
        "!cp $best_lanceolatum best_lanceolatum.pdb\n",
        "!cp best_lanceolatum.pdb /content/best_lanceolatum.pdb\n",
        "os.chdir(\"/content\")\n",
        "files.download('best_lanceolatum.pdb')"
      ],
      "metadata": {
        "id": "dfG9A4BP4OyD"
      },
      "execution_count": null,
      "outputs": []
    },
    {
      "cell_type": "markdown",
      "source": [
        "# Generic use of the tool"
      ],
      "metadata": {
        "id": "Q7l7WI8IJwLA"
      }
    },
    {
      "cell_type": "code",
      "source": [
        "pdb_id = 'XXXX' # @param {type:\"string\"}\n",
        "\n",
        "generic = pdb_id\n",
        "\n",
        "generic = generic.lower()\n",
        "\n",
        "templates = [generic]\n",
        "templates = [i.lower() for i in templates]\n",
        "pdbl = PDBList()\n",
        "for s in templates:\n",
        "  pdbl.retrieve_pdb_file(s, pdir='.', file_format =\"pdb\", overwrite=True)\n",
        "  os.rename(\"pdb\"+s+\".ent\", s+\".pdb\")"
      ],
      "metadata": {
        "cellView": "form",
        "id": "xdQHn5KQKCgb"
      },
      "execution_count": null,
      "outputs": []
    },
    {
      "cell_type": "code",
      "source": [
        "text_area1 = widgets.Textarea(layout=widgets.Layout(width='700px', height='120px'))\n",
        "label = widgets.Label(value='Enter your sequence to build:')\n",
        "hbox = widgets.HBox([label, text_area1])\n",
        "display(hbox)\n",
        "\n",
        "def submit_form1(sender):\n",
        "  global sequence_tobuild\n",
        "  sequence_tobuild = text_area1.value\n",
        "\n",
        "  with open(\"target.fasta\",\"w\") as fileout:\n",
        "    fileout.write(\">target\\n{0}\".format(sequence_tobuild))\n",
        "  print(\"Submitted !\")\n",
        "\n",
        "submit_button = widgets.Button(description='Submit')\n",
        "submit_button.on_click(submit_form1)\n",
        "display(submit_button)"
      ],
      "metadata": {
        "colab": {
          "base_uri": "https://localhost:8080/",
          "height": 173,
          "referenced_widgets": [
            "0ab612975a0f4dabad7e9b144506bd37",
            "af871f8c48cf4039bf07eec6f360d9f5",
            "6ceba984fbb24de29cff61a73cb6fd15",
            "03d60be3bbf74df3846123b4c2de4479",
            "e7ef86c9a69e456f98ea8925b8a9c9eb",
            "32bf9753261448488879fbaa6ab24080",
            "2a1cb7799a3947fe9e2a214e318ae47d",
            "639ccbb3cd1248c3a3a688e67704736c",
            "b31c208380f0419083c574b427e1fe5d",
            "76c421c828584a618b8d1b61445b582a",
            "5ccb05f66d714a5491e77a8ec89e25c8"
          ]
        },
        "id": "KxlR4SYlJwB4",
        "outputId": "d1c479af-ded5-47ae-8c2f-476f425a8cfb"
      },
      "execution_count": 11,
      "outputs": [
        {
          "output_type": "display_data",
          "data": {
            "text/plain": [
              "HBox(children=(Label(value='Enter your sequence to build:'), Textarea(value='', layout=Layout(height='120px', …"
            ],
            "application/vnd.jupyter.widget-view+json": {
              "version_major": 2,
              "version_minor": 0,
              "model_id": "0ab612975a0f4dabad7e9b144506bd37"
            }
          },
          "metadata": {}
        },
        {
          "output_type": "display_data",
          "data": {
            "text/plain": [
              "Button(description='Submit', style=ButtonStyle())"
            ],
            "application/vnd.jupyter.widget-view+json": {
              "version_major": 2,
              "version_minor": 0,
              "model_id": "b31c208380f0419083c574b427e1fe5d"
            }
          },
          "metadata": {}
        }
      ]
    },
    {
      "cell_type": "code",
      "source": [
        "cmd_alignment_generic = \"from modeller import *\\nenv = environ()\\naln = alignment(env)\\nmdl = model(env, file='{0}', \\\n",
        "model_segment=('FIRST:A','LAST:A'))\\naln.append_model(mdl, align_codes='{0}A', atom_files='{0}.pdb')\\naln.append(file=\\\n",
        "'target.fasta', align_codes='target', alignment_format='FASTA')\\naln.align2d()\\naln.write(file='aligned_{0}.fasta', alignment_format=\\\n",
        "'FASTA')\\naln.write(file='aligned_{0}.ali', alignment_format='PIR')\\naln.write(file='aligned_{0}.pap', alignment_format='PAP')\\n\".format(generic)\n",
        "with open(\"alignment_generic.py\",\"w\") as fileout:\n",
        "  fileout.write(cmd_alignment_generic)\n",
        "!mod10.4 alignment_generic.py\n",
        "print(\"Done !\")"
      ],
      "metadata": {
        "id": "aq5hW8jhJ6Uq"
      },
      "execution_count": null,
      "outputs": []
    },
    {
      "cell_type": "code",
      "source": [
        "number_models_generic = 10\n",
        "\n",
        "cmd_build_generic = \"from modeller import *\\nfrom modeller.automodel import *\\n\\nenv = environ()\\na = automodel(env, alnfile='aligned_{0}.ali', knowns='{0}A', sequence='target', assess_methods=(assess.DOPE, assess.GA341))\\na.starting_model = 1\\na.ending_model = {1}\\na.make()\\n\\nok_models = filter(lambda x: x['failure'] is None, a.outputs)\\n\\nkey = 'DOPE score'\\nok_models.sort(lambda a,b: cmp(a[key], b[key]))\\n\\nm = ok_models[0]\\nprint 'Top model: %s (DOPE score %.3f)' % (m['name'], m[key])\".format(generic, number_models_generic)\n",
        "with open(\"build_generic.py\",\"w\") as fileout:\n",
        "  fileout.write(cmd_build_generic)\n",
        "\n",
        "os.makedirs(\"/content/generic\", exist_ok = True)\n",
        "!cd /content/generic\n",
        "shutil.copyfile(\"/content/build_generic.py\", \"/content/generic/build_generic.py\")\n",
        "shutil.copyfile(\"/content/aligned_{0}.ali\".format(generic), \"/content/generic/aligned_{0}.ali\".format(generic))\n",
        "shutil.copyfile(\"/content/{0}.pdb\".format(generic), \"/content/generic/{0}.pdb\".format(generic))\n",
        "\n",
        "os.chdir(\"/content/generic\")\n",
        "!mod10.4 build_generic.py\n",
        "print(\"Done !\")\n",
        "\n",
        "with open('build_generic.log', 'r') as f:\n",
        "    last_line = f.readlines()[-2]\n",
        "    best_generic = last_line.split(\" \")[2]\n",
        "    print(last_line)\n",
        "\n",
        "!cp $best_generic best_generic.pdb\n",
        "!cp best_generic.pdb /content/best_generic.pdb\n",
        "os.chdir(\"/content\")\n",
        "files.download('best_generic.pdb')"
      ],
      "metadata": {
        "id": "SNjspGqkJvn5"
      },
      "execution_count": null,
      "outputs": []
    }
  ],
  "metadata": {
    "colab": {
      "provenance": [],
      "collapsed_sections": [
        "MyLiX-WpEcda"
      ],
      "authorship_tag": "ABX9TyNF9j+/vLwXP/3VsvqEIwyb",
      "include_colab_link": true
    },
    "kernelspec": {
      "display_name": "Python 3",
      "name": "python3"
    },
    "language_info": {
      "name": "python"
    },
    "widgets": {
      "application/vnd.jupyter.widget-state+json": {
        "7dea250b94044fcda89338ab6389d89f": {
          "model_module": "@jupyter-widgets/controls",
          "model_name": "HBoxModel",
          "model_module_version": "1.5.0",
          "state": {
            "_dom_classes": [],
            "_model_module": "@jupyter-widgets/controls",
            "_model_module_version": "1.5.0",
            "_model_name": "HBoxModel",
            "_view_count": null,
            "_view_module": "@jupyter-widgets/controls",
            "_view_module_version": "1.5.0",
            "_view_name": "HBoxView",
            "box_style": "",
            "children": [
              "IPY_MODEL_1e5e756e5acf4c68be4dffcb4b2a2851",
              "IPY_MODEL_e23f7b7270e6499e8a6cfd8e109fe3b9"
            ],
            "layout": "IPY_MODEL_bfcf0d5e9e5a402ea14a8830f844b9cf"
          }
        },
        "1e5e756e5acf4c68be4dffcb4b2a2851": {
          "model_module": "@jupyter-widgets/controls",
          "model_name": "LabelModel",
          "model_module_version": "1.5.0",
          "state": {
            "_dom_classes": [],
            "_model_module": "@jupyter-widgets/controls",
            "_model_module_version": "1.5.0",
            "_model_name": "LabelModel",
            "_view_count": null,
            "_view_module": "@jupyter-widgets/controls",
            "_view_module_version": "1.5.0",
            "_view_name": "LabelView",
            "description": "",
            "description_tooltip": null,
            "layout": "IPY_MODEL_32d0aefd5f37422da8ec7ed865866e5c",
            "placeholder": "​",
            "style": "IPY_MODEL_3695dbb693464c17a0499f68f7403a6f",
            "value": "Enter your sequence to build:"
          }
        },
        "e23f7b7270e6499e8a6cfd8e109fe3b9": {
          "model_module": "@jupyter-widgets/controls",
          "model_name": "TextareaModel",
          "model_module_version": "1.5.0",
          "state": {
            "_dom_classes": [],
            "_model_module": "@jupyter-widgets/controls",
            "_model_module_version": "1.5.0",
            "_model_name": "TextareaModel",
            "_view_count": null,
            "_view_module": "@jupyter-widgets/controls",
            "_view_module_version": "1.5.0",
            "_view_name": "TextareaView",
            "continuous_update": true,
            "description": "",
            "description_tooltip": null,
            "disabled": false,
            "layout": "IPY_MODEL_7bb4ad8b819343b88ec8c63fccdf9102",
            "placeholder": "​",
            "rows": null,
            "style": "IPY_MODEL_bef4bb550f0544949a4e076d11a2a7e8",
            "value": ""
          }
        },
        "bfcf0d5e9e5a402ea14a8830f844b9cf": {
          "model_module": "@jupyter-widgets/base",
          "model_name": "LayoutModel",
          "model_module_version": "1.2.0",
          "state": {
            "_model_module": "@jupyter-widgets/base",
            "_model_module_version": "1.2.0",
            "_model_name": "LayoutModel",
            "_view_count": null,
            "_view_module": "@jupyter-widgets/base",
            "_view_module_version": "1.2.0",
            "_view_name": "LayoutView",
            "align_content": null,
            "align_items": null,
            "align_self": null,
            "border": null,
            "bottom": null,
            "display": null,
            "flex": null,
            "flex_flow": null,
            "grid_area": null,
            "grid_auto_columns": null,
            "grid_auto_flow": null,
            "grid_auto_rows": null,
            "grid_column": null,
            "grid_gap": null,
            "grid_row": null,
            "grid_template_areas": null,
            "grid_template_columns": null,
            "grid_template_rows": null,
            "height": null,
            "justify_content": null,
            "justify_items": null,
            "left": null,
            "margin": null,
            "max_height": null,
            "max_width": null,
            "min_height": null,
            "min_width": null,
            "object_fit": null,
            "object_position": null,
            "order": null,
            "overflow": null,
            "overflow_x": null,
            "overflow_y": null,
            "padding": null,
            "right": null,
            "top": null,
            "visibility": null,
            "width": null
          }
        },
        "32d0aefd5f37422da8ec7ed865866e5c": {
          "model_module": "@jupyter-widgets/base",
          "model_name": "LayoutModel",
          "model_module_version": "1.2.0",
          "state": {
            "_model_module": "@jupyter-widgets/base",
            "_model_module_version": "1.2.0",
            "_model_name": "LayoutModel",
            "_view_count": null,
            "_view_module": "@jupyter-widgets/base",
            "_view_module_version": "1.2.0",
            "_view_name": "LayoutView",
            "align_content": null,
            "align_items": null,
            "align_self": null,
            "border": null,
            "bottom": null,
            "display": null,
            "flex": null,
            "flex_flow": null,
            "grid_area": null,
            "grid_auto_columns": null,
            "grid_auto_flow": null,
            "grid_auto_rows": null,
            "grid_column": null,
            "grid_gap": null,
            "grid_row": null,
            "grid_template_areas": null,
            "grid_template_columns": null,
            "grid_template_rows": null,
            "height": null,
            "justify_content": null,
            "justify_items": null,
            "left": null,
            "margin": null,
            "max_height": null,
            "max_width": null,
            "min_height": null,
            "min_width": null,
            "object_fit": null,
            "object_position": null,
            "order": null,
            "overflow": null,
            "overflow_x": null,
            "overflow_y": null,
            "padding": null,
            "right": null,
            "top": null,
            "visibility": null,
            "width": null
          }
        },
        "3695dbb693464c17a0499f68f7403a6f": {
          "model_module": "@jupyter-widgets/controls",
          "model_name": "DescriptionStyleModel",
          "model_module_version": "1.5.0",
          "state": {
            "_model_module": "@jupyter-widgets/controls",
            "_model_module_version": "1.5.0",
            "_model_name": "DescriptionStyleModel",
            "_view_count": null,
            "_view_module": "@jupyter-widgets/base",
            "_view_module_version": "1.2.0",
            "_view_name": "StyleView",
            "description_width": ""
          }
        },
        "7bb4ad8b819343b88ec8c63fccdf9102": {
          "model_module": "@jupyter-widgets/base",
          "model_name": "LayoutModel",
          "model_module_version": "1.2.0",
          "state": {
            "_model_module": "@jupyter-widgets/base",
            "_model_module_version": "1.2.0",
            "_model_name": "LayoutModel",
            "_view_count": null,
            "_view_module": "@jupyter-widgets/base",
            "_view_module_version": "1.2.0",
            "_view_name": "LayoutView",
            "align_content": null,
            "align_items": null,
            "align_self": null,
            "border": null,
            "bottom": null,
            "display": null,
            "flex": null,
            "flex_flow": null,
            "grid_area": null,
            "grid_auto_columns": null,
            "grid_auto_flow": null,
            "grid_auto_rows": null,
            "grid_column": null,
            "grid_gap": null,
            "grid_row": null,
            "grid_template_areas": null,
            "grid_template_columns": null,
            "grid_template_rows": null,
            "height": "120px",
            "justify_content": null,
            "justify_items": null,
            "left": null,
            "margin": null,
            "max_height": null,
            "max_width": null,
            "min_height": null,
            "min_width": null,
            "object_fit": null,
            "object_position": null,
            "order": null,
            "overflow": null,
            "overflow_x": null,
            "overflow_y": null,
            "padding": null,
            "right": null,
            "top": null,
            "visibility": null,
            "width": "700px"
          }
        },
        "bef4bb550f0544949a4e076d11a2a7e8": {
          "model_module": "@jupyter-widgets/controls",
          "model_name": "DescriptionStyleModel",
          "model_module_version": "1.5.0",
          "state": {
            "_model_module": "@jupyter-widgets/controls",
            "_model_module_version": "1.5.0",
            "_model_name": "DescriptionStyleModel",
            "_view_count": null,
            "_view_module": "@jupyter-widgets/base",
            "_view_module_version": "1.2.0",
            "_view_name": "StyleView",
            "description_width": ""
          }
        },
        "7eb274a768d14cb3b09f0ef3b6cbd690": {
          "model_module": "@jupyter-widgets/controls",
          "model_name": "ButtonModel",
          "model_module_version": "1.5.0",
          "state": {
            "_dom_classes": [],
            "_model_module": "@jupyter-widgets/controls",
            "_model_module_version": "1.5.0",
            "_model_name": "ButtonModel",
            "_view_count": null,
            "_view_module": "@jupyter-widgets/controls",
            "_view_module_version": "1.5.0",
            "_view_name": "ButtonView",
            "button_style": "",
            "description": "Submit",
            "disabled": false,
            "icon": "",
            "layout": "IPY_MODEL_b8387467834d44b6b80d7fa0ecff06ee",
            "style": "IPY_MODEL_742a123ca05949c990db59567bebb735",
            "tooltip": ""
          }
        },
        "b8387467834d44b6b80d7fa0ecff06ee": {
          "model_module": "@jupyter-widgets/base",
          "model_name": "LayoutModel",
          "model_module_version": "1.2.0",
          "state": {
            "_model_module": "@jupyter-widgets/base",
            "_model_module_version": "1.2.0",
            "_model_name": "LayoutModel",
            "_view_count": null,
            "_view_module": "@jupyter-widgets/base",
            "_view_module_version": "1.2.0",
            "_view_name": "LayoutView",
            "align_content": null,
            "align_items": null,
            "align_self": null,
            "border": null,
            "bottom": null,
            "display": null,
            "flex": null,
            "flex_flow": null,
            "grid_area": null,
            "grid_auto_columns": null,
            "grid_auto_flow": null,
            "grid_auto_rows": null,
            "grid_column": null,
            "grid_gap": null,
            "grid_row": null,
            "grid_template_areas": null,
            "grid_template_columns": null,
            "grid_template_rows": null,
            "height": null,
            "justify_content": null,
            "justify_items": null,
            "left": null,
            "margin": null,
            "max_height": null,
            "max_width": null,
            "min_height": null,
            "min_width": null,
            "object_fit": null,
            "object_position": null,
            "order": null,
            "overflow": null,
            "overflow_x": null,
            "overflow_y": null,
            "padding": null,
            "right": null,
            "top": null,
            "visibility": null,
            "width": null
          }
        },
        "742a123ca05949c990db59567bebb735": {
          "model_module": "@jupyter-widgets/controls",
          "model_name": "ButtonStyleModel",
          "model_module_version": "1.5.0",
          "state": {
            "_model_module": "@jupyter-widgets/controls",
            "_model_module_version": "1.5.0",
            "_model_name": "ButtonStyleModel",
            "_view_count": null,
            "_view_module": "@jupyter-widgets/base",
            "_view_module_version": "1.2.0",
            "_view_name": "StyleView",
            "button_color": null,
            "font_weight": ""
          }
        },
        "0ab612975a0f4dabad7e9b144506bd37": {
          "model_module": "@jupyter-widgets/controls",
          "model_name": "HBoxModel",
          "model_module_version": "1.5.0",
          "state": {
            "_dom_classes": [],
            "_model_module": "@jupyter-widgets/controls",
            "_model_module_version": "1.5.0",
            "_model_name": "HBoxModel",
            "_view_count": null,
            "_view_module": "@jupyter-widgets/controls",
            "_view_module_version": "1.5.0",
            "_view_name": "HBoxView",
            "box_style": "",
            "children": [
              "IPY_MODEL_af871f8c48cf4039bf07eec6f360d9f5",
              "IPY_MODEL_6ceba984fbb24de29cff61a73cb6fd15"
            ],
            "layout": "IPY_MODEL_03d60be3bbf74df3846123b4c2de4479"
          }
        },
        "af871f8c48cf4039bf07eec6f360d9f5": {
          "model_module": "@jupyter-widgets/controls",
          "model_name": "LabelModel",
          "model_module_version": "1.5.0",
          "state": {
            "_dom_classes": [],
            "_model_module": "@jupyter-widgets/controls",
            "_model_module_version": "1.5.0",
            "_model_name": "LabelModel",
            "_view_count": null,
            "_view_module": "@jupyter-widgets/controls",
            "_view_module_version": "1.5.0",
            "_view_name": "LabelView",
            "description": "",
            "description_tooltip": null,
            "layout": "IPY_MODEL_e7ef86c9a69e456f98ea8925b8a9c9eb",
            "placeholder": "​",
            "style": "IPY_MODEL_32bf9753261448488879fbaa6ab24080",
            "value": "Enter your sequence to build:"
          }
        },
        "6ceba984fbb24de29cff61a73cb6fd15": {
          "model_module": "@jupyter-widgets/controls",
          "model_name": "TextareaModel",
          "model_module_version": "1.5.0",
          "state": {
            "_dom_classes": [],
            "_model_module": "@jupyter-widgets/controls",
            "_model_module_version": "1.5.0",
            "_model_name": "TextareaModel",
            "_view_count": null,
            "_view_module": "@jupyter-widgets/controls",
            "_view_module_version": "1.5.0",
            "_view_name": "TextareaView",
            "continuous_update": true,
            "description": "",
            "description_tooltip": null,
            "disabled": false,
            "layout": "IPY_MODEL_2a1cb7799a3947fe9e2a214e318ae47d",
            "placeholder": "​",
            "rows": null,
            "style": "IPY_MODEL_639ccbb3cd1248c3a3a688e67704736c",
            "value": ""
          }
        },
        "03d60be3bbf74df3846123b4c2de4479": {
          "model_module": "@jupyter-widgets/base",
          "model_name": "LayoutModel",
          "model_module_version": "1.2.0",
          "state": {
            "_model_module": "@jupyter-widgets/base",
            "_model_module_version": "1.2.0",
            "_model_name": "LayoutModel",
            "_view_count": null,
            "_view_module": "@jupyter-widgets/base",
            "_view_module_version": "1.2.0",
            "_view_name": "LayoutView",
            "align_content": null,
            "align_items": null,
            "align_self": null,
            "border": null,
            "bottom": null,
            "display": null,
            "flex": null,
            "flex_flow": null,
            "grid_area": null,
            "grid_auto_columns": null,
            "grid_auto_flow": null,
            "grid_auto_rows": null,
            "grid_column": null,
            "grid_gap": null,
            "grid_row": null,
            "grid_template_areas": null,
            "grid_template_columns": null,
            "grid_template_rows": null,
            "height": null,
            "justify_content": null,
            "justify_items": null,
            "left": null,
            "margin": null,
            "max_height": null,
            "max_width": null,
            "min_height": null,
            "min_width": null,
            "object_fit": null,
            "object_position": null,
            "order": null,
            "overflow": null,
            "overflow_x": null,
            "overflow_y": null,
            "padding": null,
            "right": null,
            "top": null,
            "visibility": null,
            "width": null
          }
        },
        "e7ef86c9a69e456f98ea8925b8a9c9eb": {
          "model_module": "@jupyter-widgets/base",
          "model_name": "LayoutModel",
          "model_module_version": "1.2.0",
          "state": {
            "_model_module": "@jupyter-widgets/base",
            "_model_module_version": "1.2.0",
            "_model_name": "LayoutModel",
            "_view_count": null,
            "_view_module": "@jupyter-widgets/base",
            "_view_module_version": "1.2.0",
            "_view_name": "LayoutView",
            "align_content": null,
            "align_items": null,
            "align_self": null,
            "border": null,
            "bottom": null,
            "display": null,
            "flex": null,
            "flex_flow": null,
            "grid_area": null,
            "grid_auto_columns": null,
            "grid_auto_flow": null,
            "grid_auto_rows": null,
            "grid_column": null,
            "grid_gap": null,
            "grid_row": null,
            "grid_template_areas": null,
            "grid_template_columns": null,
            "grid_template_rows": null,
            "height": null,
            "justify_content": null,
            "justify_items": null,
            "left": null,
            "margin": null,
            "max_height": null,
            "max_width": null,
            "min_height": null,
            "min_width": null,
            "object_fit": null,
            "object_position": null,
            "order": null,
            "overflow": null,
            "overflow_x": null,
            "overflow_y": null,
            "padding": null,
            "right": null,
            "top": null,
            "visibility": null,
            "width": null
          }
        },
        "32bf9753261448488879fbaa6ab24080": {
          "model_module": "@jupyter-widgets/controls",
          "model_name": "DescriptionStyleModel",
          "model_module_version": "1.5.0",
          "state": {
            "_model_module": "@jupyter-widgets/controls",
            "_model_module_version": "1.5.0",
            "_model_name": "DescriptionStyleModel",
            "_view_count": null,
            "_view_module": "@jupyter-widgets/base",
            "_view_module_version": "1.2.0",
            "_view_name": "StyleView",
            "description_width": ""
          }
        },
        "2a1cb7799a3947fe9e2a214e318ae47d": {
          "model_module": "@jupyter-widgets/base",
          "model_name": "LayoutModel",
          "model_module_version": "1.2.0",
          "state": {
            "_model_module": "@jupyter-widgets/base",
            "_model_module_version": "1.2.0",
            "_model_name": "LayoutModel",
            "_view_count": null,
            "_view_module": "@jupyter-widgets/base",
            "_view_module_version": "1.2.0",
            "_view_name": "LayoutView",
            "align_content": null,
            "align_items": null,
            "align_self": null,
            "border": null,
            "bottom": null,
            "display": null,
            "flex": null,
            "flex_flow": null,
            "grid_area": null,
            "grid_auto_columns": null,
            "grid_auto_flow": null,
            "grid_auto_rows": null,
            "grid_column": null,
            "grid_gap": null,
            "grid_row": null,
            "grid_template_areas": null,
            "grid_template_columns": null,
            "grid_template_rows": null,
            "height": "120px",
            "justify_content": null,
            "justify_items": null,
            "left": null,
            "margin": null,
            "max_height": null,
            "max_width": null,
            "min_height": null,
            "min_width": null,
            "object_fit": null,
            "object_position": null,
            "order": null,
            "overflow": null,
            "overflow_x": null,
            "overflow_y": null,
            "padding": null,
            "right": null,
            "top": null,
            "visibility": null,
            "width": "700px"
          }
        },
        "639ccbb3cd1248c3a3a688e67704736c": {
          "model_module": "@jupyter-widgets/controls",
          "model_name": "DescriptionStyleModel",
          "model_module_version": "1.5.0",
          "state": {
            "_model_module": "@jupyter-widgets/controls",
            "_model_module_version": "1.5.0",
            "_model_name": "DescriptionStyleModel",
            "_view_count": null,
            "_view_module": "@jupyter-widgets/base",
            "_view_module_version": "1.2.0",
            "_view_name": "StyleView",
            "description_width": ""
          }
        },
        "b31c208380f0419083c574b427e1fe5d": {
          "model_module": "@jupyter-widgets/controls",
          "model_name": "ButtonModel",
          "model_module_version": "1.5.0",
          "state": {
            "_dom_classes": [],
            "_model_module": "@jupyter-widgets/controls",
            "_model_module_version": "1.5.0",
            "_model_name": "ButtonModel",
            "_view_count": null,
            "_view_module": "@jupyter-widgets/controls",
            "_view_module_version": "1.5.0",
            "_view_name": "ButtonView",
            "button_style": "",
            "description": "Submit",
            "disabled": false,
            "icon": "",
            "layout": "IPY_MODEL_76c421c828584a618b8d1b61445b582a",
            "style": "IPY_MODEL_5ccb05f66d714a5491e77a8ec89e25c8",
            "tooltip": ""
          }
        },
        "76c421c828584a618b8d1b61445b582a": {
          "model_module": "@jupyter-widgets/base",
          "model_name": "LayoutModel",
          "model_module_version": "1.2.0",
          "state": {
            "_model_module": "@jupyter-widgets/base",
            "_model_module_version": "1.2.0",
            "_model_name": "LayoutModel",
            "_view_count": null,
            "_view_module": "@jupyter-widgets/base",
            "_view_module_version": "1.2.0",
            "_view_name": "LayoutView",
            "align_content": null,
            "align_items": null,
            "align_self": null,
            "border": null,
            "bottom": null,
            "display": null,
            "flex": null,
            "flex_flow": null,
            "grid_area": null,
            "grid_auto_columns": null,
            "grid_auto_flow": null,
            "grid_auto_rows": null,
            "grid_column": null,
            "grid_gap": null,
            "grid_row": null,
            "grid_template_areas": null,
            "grid_template_columns": null,
            "grid_template_rows": null,
            "height": null,
            "justify_content": null,
            "justify_items": null,
            "left": null,
            "margin": null,
            "max_height": null,
            "max_width": null,
            "min_height": null,
            "min_width": null,
            "object_fit": null,
            "object_position": null,
            "order": null,
            "overflow": null,
            "overflow_x": null,
            "overflow_y": null,
            "padding": null,
            "right": null,
            "top": null,
            "visibility": null,
            "width": null
          }
        },
        "5ccb05f66d714a5491e77a8ec89e25c8": {
          "model_module": "@jupyter-widgets/controls",
          "model_name": "ButtonStyleModel",
          "model_module_version": "1.5.0",
          "state": {
            "_model_module": "@jupyter-widgets/controls",
            "_model_module_version": "1.5.0",
            "_model_name": "ButtonStyleModel",
            "_view_count": null,
            "_view_module": "@jupyter-widgets/base",
            "_view_module_version": "1.2.0",
            "_view_name": "StyleView",
            "button_color": null,
            "font_weight": ""
          }
        }
      }
    }
  },
  "nbformat": 4,
  "nbformat_minor": 0
}